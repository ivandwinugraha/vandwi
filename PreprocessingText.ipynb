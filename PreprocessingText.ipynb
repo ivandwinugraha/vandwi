{
  "cells": [
    {
      "cell_type": "markdown",
      "metadata": {
        "id": "view-in-github",
        "colab_type": "text"
      },
      "source": [
        "<a href=\"https://colab.research.google.com/github/ivandwinugraha/vandwi/blob/master/PreprocessingText.ipynb\" target=\"_parent\"><img src=\"https://colab.research.google.com/assets/colab-badge.svg\" alt=\"Open In Colab\"/></a>"
      ]
    },
    {
      "cell_type": "code",
      "source": [
        "import pandas as pd"
      ],
      "metadata": {
        "id": "IL0KuSNL5esZ"
      },
      "execution_count": null,
      "outputs": []
    },
    {
      "cell_type": "code",
      "source": [
        "from google.colab import drive\n",
        "drive.mount('/content/drive')"
      ],
      "metadata": {
        "id": "2sSnG47I6BQ_"
      },
      "execution_count": null,
      "outputs": []
    },
    {
      "cell_type": "code",
      "source": [
        "import pandas as pd\n",
        "#reading the data\n",
        "data = pd.read_csv(\"/content/drive/MyDrive/DataSets/shopee.csv\",error_bad_lines=False,sep=\";\",encoding='utf-8')\n",
        "data.drop(['Unnamed: 4'], axis=1, inplace=True)\n",
        "data.head()"
      ],
      "metadata": {
        "id": "O-JnpG0-OyxD"
      },
      "execution_count": null,
      "outputs": []
    },
    {
      "cell_type": "code",
      "source": [
        "# Sentimen Rangking\n",
        "sentiment = {1:'negative',2 : 'negative', 3 : 'neutral', 4 : 'positive', 5: 'positive'}"
      ],
      "metadata": {
        "id": "kOt842YmEHB5"
      },
      "execution_count": null,
      "outputs": []
    },
    {
      "cell_type": "code",
      "source": [
        "data['sentiment'] = data['rating'].map(sentiment)"
      ],
      "metadata": {
        "id": "mbO_YRqYEqxw"
      },
      "execution_count": null,
      "outputs": []
    },
    {
      "cell_type": "code",
      "source": [
        "data"
      ],
      "metadata": {
        "id": "tSy6gapbFG3J"
      },
      "execution_count": null,
      "outputs": []
    },
    {
      "cell_type": "code",
      "execution_count": null,
      "metadata": {
        "id": "4IN0gSBYcAHx"
      },
      "outputs": [],
      "source": [
        "# Case Folding\n",
        "import re\n",
        "def casefolding(comment):\n",
        "  comment = str(comment).lower()\n",
        "  comment = comment.strip(\"\")\n",
        "  comment = re.sub(r'[?|$\\.!_:;\")(-+,]', '',comment)\n",
        "  return comment\n",
        "data['comment1'] = data['comment'].apply(casefolding)\n",
        "data.head(100)"
      ]
    },
    {
      "cell_type": "code",
      "source": [
        "# Slang word\n",
        "slangword= {\"gak\":\"nggak\", \"baguusss\":\"bagus\", 'bangetttttttt':'banget'}\n",
        "def _lookup_words(input_text):\n",
        "    words = input_text.split()\n",
        "    new_words = [] \n",
        "    for word in words:\n",
        "        if word.lower() in slangword:\n",
        "            word = slangword[word.lower()]\n",
        "        new_words.append(word)\n",
        "    new_text = \" \".join(new_words) # ..... change here\n",
        "    return new_text # ..... change here also\n",
        "data['comment2'] = data['comment'].apply(_lookup_words)\n",
        "data"
      ],
      "metadata": {
        "id": "hpP9jzx-Y84z"
      },
      "execution_count": null,
      "outputs": []
    },
    {
      "cell_type": "code",
      "source": [
        "# Tokenizing\n",
        "def token(comments):\n",
        "  nstr = comments.split(' ')\n",
        "  dat = []\n",
        "  a = -1\n",
        "  for hu in nstr:\n",
        "    a = a + 1\n",
        "  if hu == ' ':\n",
        "    dat.append(a)\n",
        "  p = 0\n",
        "  b = 0\n",
        "\n",
        "  for q in dat:\n",
        "    b = q - p\n",
        "    del nstr[b]\n",
        "    p = p + 1\n",
        "  return nstr\n",
        "\n",
        "data['comment3'] = data['comment'].apply(token)\n",
        "data.head(100)"
      ],
      "metadata": {
        "id": "W7Mou2TPXy6M"
      },
      "execution_count": null,
      "outputs": []
    },
    {
      "cell_type": "code",
      "execution_count": null,
      "metadata": {
        "id": "T5CsfgM-bsTW"
      },
      "outputs": [],
      "source": [
        "#stopwords removal\n",
        "import nltk \n",
        "nltk.download('stopwords')\n",
        "from nltk.corpus import stopwords \n",
        "\n",
        "def stopword_remove(comments):\n",
        "    filtering = stopwords.words('indonesian', 'english')\n",
        "    x = []\n",
        "    data = []\n",
        "    def myFunc(x):\n",
        "      if x in filtering:\n",
        "        return False\n",
        "      else:\n",
        "        return True\n",
        "    fit = filter(myFunc, comments)\n",
        "    for x in fit:\n",
        "      data.append(x)\n",
        "    return data\n",
        "\n",
        "data['comment4'] = data['comment'].apply(stopword_remove)\n",
        "data.head()\n",
        "   "
      ]
    },
    {
      "cell_type": "code",
      "source": [
        "!pip install Sastrawi"
      ],
      "metadata": {
        "id": "gc2BN0zUm1_l"
      },
      "execution_count": null,
      "outputs": []
    },
    {
      "cell_type": "code",
      "execution_count": null,
      "metadata": {
        "id": "2rfDkcMpOmB7"
      },
      "outputs": [],
      "source": [
        "#stemming\n",
        "from sklearn.pipeline import Pipeline\n",
        "from Sastrawi.Stemmer.StemmerFactory import StemmerFactory\n",
        "\n",
        "def stemming(comment):    \n",
        "    factory = StemmerFactory()\n",
        "    stemmer = factory.create_stemmer()\n",
        "    do = []\n",
        "    for w in comment:\n",
        "      dt = stemmer.stem(w)\n",
        "      do.append(dt)\n",
        "    d_clean = []\n",
        "    d_clean = \" \".join(do)\n",
        "    print(d_clean)\n",
        "    return d_clean\n",
        "\n",
        "data['comment5'] = data['comment'].apply(stemming)\n",
        "data.head()"
      ]
    },
    {
      "cell_type": "code",
      "source": [
        "!pip install sklearn-pycrfsuite"
      ],
      "metadata": {
        "id": "MbkHSVp1ywI4"
      },
      "execution_count": null,
      "outputs": []
    },
    {
      "cell_type": "code",
      "source": [
        "!pip install python-crfsuite"
      ],
      "metadata": {
        "id": "QaxRAWrszCPg"
      },
      "execution_count": null,
      "outputs": []
    },
    {
      "cell_type": "code",
      "source": [
        "from nltk import pos_tag"
      ],
      "metadata": {
        "id": "IGjiW5aEhaKO"
      },
      "execution_count": null,
      "outputs": []
    },
    {
      "cell_type": "code",
      "source": [
        "nltk.download('averaged_perceptron_tagger')"
      ],
      "metadata": {
        "id": "Ri0wDhdDimOs"
      },
      "execution_count": null,
      "outputs": []
    },
    {
      "cell_type": "code",
      "source": [
        "#POS Tag\n",
        "data['comment6'] = data['comment'].str.split().map(pos_tag)\n",
        "data.head()"
      ],
      "metadata": {
        "id": "rGSWmgsTiQ0J"
      },
      "execution_count": null,
      "outputs": []
    }
  ],
  "metadata": {
    "colab": {
      "collapsed_sections": [],
      "name": "PreprocessingText.ipynb",
      "private_outputs": true,
      "provenance": [],
      "include_colab_link": true
    },
    "kernelspec": {
      "display_name": "Python 3",
      "language": "python",
      "name": "python3"
    },
    "language_info": {
      "codemirror_mode": {
        "name": "ipython",
        "version": 3
      },
      "file_extension": ".py",
      "mimetype": "text/x-python",
      "name": "python",
      "nbconvert_exporter": "python",
      "pygments_lexer": "ipython3",
      "version": "3.8.8"
    }
  },
  "nbformat": 4,
  "nbformat_minor": 0
}
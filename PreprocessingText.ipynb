{
  "cells": [
    {
      "cell_type": "markdown",
      "metadata": {
        "id": "view-in-github",
        "colab_type": "text"
      },
      "source": [
        "<a href=\"https://colab.research.google.com/github/ivandwinugraha/vandwi/blob/master/PreprocessingText.ipynb\" target=\"_parent\"><img src=\"https://colab.research.google.com/assets/colab-badge.svg\" alt=\"Open In Colab\"/></a>"
      ]
    },
    {
      "cell_type": "code",
      "execution_count": null,
      "metadata": {
        "id": "4IN0gSBYcAHx"
      },
      "outputs": [],
      "source": [
        "import re\n",
        "import nltk\n",
        "nltk.download('wordnet')"
      ]
    },
    {
      "cell_type": "code",
      "execution_count": null,
      "metadata": {
        "id": "e-kOCLC2cix8"
      },
      "outputs": [],
      "source": [
        "#tokenizing\n",
        "def tokenizing(text):\n",
        "    words = re.sub(r\"[^A-Za-z0-9\\-]\", \" \", text).lower().split()\n",
        "    return words"
      ]
    },
    {
      "cell_type": "code",
      "execution_count": null,
      "metadata": {
        "id": "T5CsfgM-bsTW"
      },
      "outputs": [],
      "source": [
        "#stopwords removal\n",
        "nltk.download('stopwords')\n",
        "stopwords = nltk.corpus.stopwords.words('english')\n",
        "def stopword_remove(text):\n",
        "    words = ' '.join([word for word in text if word not in stopwords])\n",
        "    return words"
      ]
    },
    {
      "cell_type": "code",
      "execution_count": null,
      "metadata": {
        "id": "2rfDkcMpOmB7"
      },
      "outputs": [],
      "source": [
        "#stemming\n",
        "from nltk.stem import PorterStemmer\n",
        "def stemming(text):    \n",
        "    porter_stemmer = PorterStemmer()\n",
        "    words = text.split()\n",
        "    words = ' '.join([porter_stemmer.stem(word) for word in words])\n",
        "    return words"
      ]
    },
    {
      "cell_type": "code",
      "execution_count": null,
      "metadata": {
        "id": "4dvfLXoTL3eN"
      },
      "outputs": [],
      "source": [
        "# lemmatizing...\n",
        "from nltk.stem import WordNetLemmatizer\n",
        "def lemmatizing(text): \n",
        "    wordnet_lemmatizer = WordNetLemmatizer()\n",
        "    words = re.sub(r\"[^A-Za-z0-9\\-]\", \" \", text).lower().split()\n",
        "    words = [wordnet_lemmatizer.lemmatize(word) if word not in stopwords else word for word in words]\n",
        "    return words"
      ]
    },
    {
      "cell_type": "code",
      "execution_count": null,
      "metadata": {
        "id": "tTEe_Rj83uMK"
      },
      "outputs": [],
      "source": [
        "#pemanggilan fungsi\n",
        "\n",
        "teks = tokenizing('CNB is an adaptation spoken of the standard multinomial naive Bayes (MNB) algorithm that is particularly suited for imbalanced data sets')\n",
        "teks"
      ]
    },
    {
      "cell_type": "code",
      "execution_count": null,
      "metadata": {
        "id": "kBvYO6JnjA1Q"
      },
      "outputs": [],
      "source": [
        "teks = stopword_remove(teks)\n",
        "teks"
      ]
    },
    {
      "cell_type": "code",
      "execution_count": null,
      "metadata": {
        "id": "dUNkTKudjfUO"
      },
      "outputs": [],
      "source": [
        "teks1 = stemming(teks)\n",
        "teks1"
      ]
    },
    {
      "cell_type": "code",
      "execution_count": null,
      "metadata": {
        "id": "m1bdV-Tdjuuc"
      },
      "outputs": [],
      "source": [
        "teks2 = lemmatizing(teks)\n",
        "teks2"
      ]
    },
    {
      "cell_type": "code",
      "execution_count": null,
      "metadata": {
        "id": "W-WjKmiRFR9V"
      },
      "outputs": [],
      "source": [
        "#import library for preprocessing\n",
        "\n",
        "import string, re\n",
        "import itertools\n",
        "from Sastrawi.StopWordRemover.StopWordRemoverFactory import StopWordRemoverFactory\n",
        "from Sastrawi.Stemmer.StemmerFactory import StemmerFactory\n",
        "from nltk.tag import CRFTagger\n",
        "from tqdm import tqdm\n",
        "factory = StopWordRemoverFactory()\n",
        "stopword = factory.create_stop_word_remover()\n",
        "\n",
        "##lowertext\n",
        "def lowercase_(data):    \n",
        "    data=data.lower()\n",
        "    return data\n",
        "\n",
        "##Remove Punctuation\n",
        "def puctuation_(data):\n",
        "    remove=string.punctuation\n",
        "    translator=str.maketrans(remove,' '*len(remove))\n",
        "    data=data.translate(translator)\n",
        "    return data\n",
        "\n",
        "##Remove ASCII, UNICODE, & newline\n",
        "def symbols_(data):\n",
        "    data=data.encode('ascii','ignore').decode('utf-8')\n",
        "    data=re.sub(r'[^\\x00-\\x7f]',r'', data)    \n",
        "    ##Remove Newline\n",
        "    data=data.replace('\\n',' ')\n",
        "    return data\n",
        "    "
      ]
    },
    {
      "cell_type": "code",
      "execution_count": null,
      "metadata": {
        "id": "WlkfrqSwFR9W"
      },
      "outputs": [],
      "source": [
        "lower=lowercase_(\"Ini adalah KALIMAT yang dicontohkan. ^_^ @student 😍😍😍👍👍👍\")\n",
        "lower"
      ]
    },
    {
      "cell_type": "code",
      "execution_count": null,
      "metadata": {
        "id": "v0McIbDxFR9W"
      },
      "outputs": [],
      "source": [
        "punc=puctuation_(lower)\n",
        "punc"
      ]
    },
    {
      "cell_type": "code",
      "execution_count": null,
      "metadata": {
        "id": "tQvmOndbFR9X"
      },
      "outputs": [],
      "source": [
        "sym=symbols_(punc)\n",
        "sym"
      ]
    },
    {
      "cell_type": "code",
      "execution_count": null,
      "metadata": {
        "id": "6JqRCg2nFR9Y"
      },
      "outputs": [],
      "source": [
        ""
      ]
    },
    {
      "cell_type": "code",
      "execution_count": null,
      "metadata": {
        "id": "wubuk4FwFR9Y"
      },
      "outputs": [],
      "source": [
        ""
      ]
    }
  ],
  "metadata": {
    "colab": {
      "collapsed_sections": [],
      "name": "PreprocessingText.ipynb",
      "private_outputs": true,
      "provenance": [],
      "include_colab_link": true
    },
    "kernelspec": {
      "display_name": "Python 3",
      "language": "python",
      "name": "python3"
    },
    "language_info": {
      "codemirror_mode": {
        "name": "ipython",
        "version": 3
      },
      "file_extension": ".py",
      "mimetype": "text/x-python",
      "name": "python",
      "nbconvert_exporter": "python",
      "pygments_lexer": "ipython3",
      "version": "3.8.8"
    }
  },
  "nbformat": 4,
  "nbformat_minor": 0
}
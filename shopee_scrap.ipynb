{
  "cells": [
    {
      "cell_type": "markdown",
      "metadata": {
        "id": "view-in-github",
        "colab_type": "text"
      },
      "source": [
        "<a href=\"https://colab.research.google.com/github/ivandwinugraha/vandwi/blob/master/shopee_scrap.ipynb\" target=\"_parent\"><img src=\"https://colab.research.google.com/assets/colab-badge.svg\" alt=\"Open In Colab\"/></a>"
      ]
    },
    {
      "cell_type": "code",
      "execution_count": 1,
      "metadata": {
        "colab": {
          "base_uri": "https://localhost:8080/",
          "height": 245
        },
        "id": "0ddded38-927d-4cba-a156-e9d35419741c",
        "outputId": "0eca917f-145f-48d3-c418-cbf56fbd679f"
      },
      "outputs": [
        {
          "output_type": "error",
          "ename": "KeyError",
          "evalue": "ignored",
          "traceback": [
            "\u001b[0;31m---------------------------------------------------------------------------\u001b[0m",
            "\u001b[0;31mKeyError\u001b[0m                                  Traceback (most recent call last)",
            "\u001b[0;32m<ipython-input-1-e419c1f032f1>\u001b[0m in \u001b[0;36m<module>\u001b[0;34m()\u001b[0m\n\u001b[1;32m     16\u001b[0m \u001b[0;32mwhile\u001b[0m \u001b[0;32mTrue\u001b[0m\u001b[0;34m:\u001b[0m\u001b[0;34m\u001b[0m\u001b[0;34m\u001b[0m\u001b[0m\n\u001b[1;32m     17\u001b[0m \u001b[0;34m\u001b[0m\u001b[0m\n\u001b[0;32m---> 18\u001b[0;31m     \u001b[0mdata\u001b[0m \u001b[0;34m=\u001b[0m \u001b[0mrequests\u001b[0m\u001b[0;34m.\u001b[0m\u001b[0mget\u001b[0m\u001b[0;34m(\u001b[0m\u001b[0mratings_url\u001b[0m\u001b[0;34m.\u001b[0m\u001b[0mformat\u001b[0m\u001b[0;34m(\u001b[0m\u001b[0mshop_id\u001b[0m\u001b[0;34m=\u001b[0m\u001b[0mshop_id\u001b[0m\u001b[0;34m,\u001b[0m \u001b[0mitem_id\u001b[0m\u001b[0;34m=\u001b[0m\u001b[0mitem_id\u001b[0m\u001b[0;34m,\u001b[0m \u001b[0moffset\u001b[0m\u001b[0;34m=\u001b[0m\u001b[0moffset\u001b[0m\u001b[0;34m)\u001b[0m\u001b[0;34m)\u001b[0m\u001b[0;34m.\u001b[0m\u001b[0mjson\u001b[0m\u001b[0;34m(\u001b[0m\u001b[0;34m)\u001b[0m\u001b[0;34m\u001b[0m\u001b[0;34m\u001b[0m\u001b[0m\n\u001b[0m\u001b[1;32m     19\u001b[0m \u001b[0;34m\u001b[0m\u001b[0m\n\u001b[1;32m     20\u001b[0m     \u001b[0mi\u001b[0m \u001b[0;34m=\u001b[0m \u001b[0;36m1\u001b[0m\u001b[0;34m\u001b[0m\u001b[0;34m\u001b[0m\u001b[0m\n",
            "\u001b[0;31mKeyError\u001b[0m: 'timestamp'"
          ]
        }
      ],
      "source": [
        "import re\n",
        "import json\n",
        "import requests\n",
        "import csv\n",
        "\n",
        "url = 'https://shopee.co.id/Samsung-Galaxy-M22-6-128-GB-Black-i.52635036.13309376187?sp_atk=44e87462-ac4f-45a9-bed3-53636d75bc08'\n",
        "\n",
        "r = re.search(r'i\\.(\\d+)\\.(\\d+)', url)\n",
        "shop_id, item_id = r[1], r[2]\n",
        "ratings_url = 'https://shopee.co.id/api/v2/item/get_ratings?filter=0&flag=1&itemid={item_id}&limit=20&offset={offset}&shopid={shop_id}&type=0'\n",
        "\n",
        "author=[]\n",
        "comment=[]\n",
        "offset = 0\n",
        "\n",
        "while True:\n",
        "\n",
        "    data = requests.get(ratings_url.format(shop_id=shop_id, item_id=item_id, offset=offset)).json()\n",
        "\n",
        "    i = 1\n",
        "    j=0\n",
        "    for i, rating in enumerate(data['data']['ratings'], 1):\n",
        "        author.append(rating['author_username'])\n",
        "        comment.append(rating['comment'])\n",
        "        \n",
        "    if i % 20:\n",
        "        break\n",
        "\n",
        "    offset += 20\n",
        "\n",
        "print(\"scraping completed\")\n",
        "\n",
        "\n",
        "with open('shopee.csv', 'w', encoding='utf8') as csvfile:\n",
        "    fieldnames = ['author', 'comment']\n",
        "    writer = csv.DictWriter(csvfile, fieldnames=fieldnames) \n",
        "    writer.writeheader()\n",
        "                  \n",
        "    for i in range(len(author)):       \n",
        "        writer.writerows([{'author': author[i], 'comment': comment[i]}])\n",
        "        \n",
        "print(\"writing completed\")"
      ],
      "id": "0ddded38-927d-4cba-a156-e9d35419741c"
    },
    {
      "cell_type": "code",
      "source": [
        "import re\n",
        "import json\n",
        "import requests\n",
        "import pandas as pd\n",
        "\n",
        "#url link is used manually here as for now\n",
        "url = \"https://shopee.co.id/OPPO-F9-RAM-6-128-GARANSI-TOKO-1-TAHUN-i.85495952.6455211714?sp_atk=ec4cf442-95e8-479b-8c3e-b40204d07cdf\"\n",
        "\n",
        "r = re.search(r\"i\\.(\\d+)\\.(\\d+)\", url)\n",
        "shop_id, item_id = r[1], r[2]\n",
        "ratings_url = \"https://shopee.sg/api/v2/item/get_ratings?filter=0&flag=1&itemid={item_id}&limit=20&offset={offset}&shopid={shop_id}&type=0\"\n",
        "\n",
        "offset = 0\n",
        "d = {\"username\": [], \"rating\": [], \"comment\": []}\n",
        "while True:\n",
        "    data = requests.get(\n",
        "        ratings_url.format(shop_id=shop_id, item_id=item_id, offset=offset)\n",
        "    ).json()\n",
        "\n",
        "    # uncomment this to print all data:\n",
        "    # print(json.dumps(data, indent=4))\n",
        "    \n",
        "    i = 1\n",
        "    for i, rating in enumerate(data[\"data\"][\"ratings\"], 1):\n",
        "        d[\"username\"].append(rating[\"author_username\"])\n",
        "        d[\"rating\"].append(rating[\"rating_star\"])\n",
        "        d[\"comment\"].append(rating[\"comment\"])\n",
        "\n",
        "    if i % 20:\n",
        "        break\n",
        "\n",
        "    offset += 20\n",
        "   \n",
        "\n",
        "df = pd.DataFrame(d)\n",
        "print(df)\n",
        "df.to_csv(\"ScarpShoope.csv\", index=False)"
      ],
      "metadata": {
        "id": "35YntxXhMg2v",
        "outputId": "13d4f8f2-4ef9-45df-d7a2-c91bcee63f48",
        "colab": {
          "base_uri": "https://localhost:8080/"
        }
      },
      "id": "35YntxXhMg2v",
      "execution_count": 5,
      "outputs": [
        {
          "output_type": "stream",
          "name": "stdout",
          "text": [
            "            username  rating  \\\n",
            "0      lissaoctaviia       4   \n",
            "1           mila1226       5   \n",
            "2         syaharah14       5   \n",
            "3            neko404       5   \n",
            "4         squishy217       5   \n",
            "...              ...     ...   \n",
            "3015    pipiteriyani       5   \n",
            "3016      heriny1602       5   \n",
            "3017        m_taupik       5   \n",
            "3018    cibinongcsf6       5   \n",
            "3019  nurhayatihayra       5   \n",
            "\n",
            "                                                comment  \n",
            "0     Hpnya bagus ya lumayanlah untuk bapak2 atau em...  \n",
            "1                                    real pick bnget ..  \n",
            "2     Wah mulus bangetttttttt \\nMakasih ya kk bonus ...  \n",
            "3                       Udah 3 kali beli, sangat amanah  \n",
            "4     Kualitas produk baik kamera jernih semua norma...  \n",
            "...                                                 ...  \n",
            "3015                                                     \n",
            "3016  MANTAPPP...PUASSS...TIDAK MENGECEWAKAN... THAN...  \n",
            "3017                                                     \n",
            "3018  Hapenyaa langsung dipakai alhamdulillah aman l...  \n",
            "3019  Terimakasih barang sudah sampai. Next order la...  \n",
            "\n",
            "[3020 rows x 3 columns]\n"
          ]
        }
      ]
    }
  ],
  "metadata": {
    "colab": {
      "collapsed_sections": [],
      "name": "shopee_scrap.ipynb",
      "provenance": [],
      "include_colab_link": true
    },
    "kernelspec": {
      "display_name": "Python 3",
      "language": "python",
      "name": "python3"
    },
    "language_info": {
      "codemirror_mode": {
        "name": "ipython",
        "version": 3
      },
      "file_extension": ".py",
      "mimetype": "text/x-python",
      "name": "python",
      "nbconvert_exporter": "python",
      "pygments_lexer": "ipython3",
      "version": "3.8.8"
    }
  },
  "nbformat": 4,
  "nbformat_minor": 5
}
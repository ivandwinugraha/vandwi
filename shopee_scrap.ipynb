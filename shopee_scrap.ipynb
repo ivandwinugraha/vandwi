{
  "cells": [
    {
      "cell_type": "markdown",
      "metadata": {
        "id": "view-in-github",
        "colab_type": "text"
      },
      "source": [
        "<a href=\"https://colab.research.google.com/github/ivandwinugraha/vandwi/blob/master/shopee_scrap.ipynb\" target=\"_parent\"><img src=\"https://colab.research.google.com/assets/colab-badge.svg\" alt=\"Open In Colab\"/></a>"
      ]
    },
    {
      "cell_type": "code",
      "execution_count": null,
      "metadata": {
        "colab": {
          "background_save": true
        },
        "id": "0ddded38-927d-4cba-a156-e9d35419741c",
        "outputId": "95422331-e9b0-4a85-be44-45ac0d960ccd"
      },
      "outputs": [
        {
          "name": "stdout",
          "output_type": "stream",
          "text": [
            "scraping completed\n"
          ]
        }
      ],
      "source": [
        "import re\n",
        "import json\n",
        "import requests\n",
        "import csv\n",
        "\n",
        "url = 'https://shopee.co.id/Samsung-Galaxy-M22-6-128-GB-Black-i.52635036.13309376187?sp_atk=44e87462-ac4f-45a9-bed3-53636d75bc08'\n",
        "\n",
        "r = re.search(r'i\\.(\\d+)\\.(\\d+)', url)\n",
        "shop_id, item_id = r[1], r[2]\n",
        "ratings_url = 'https://shopee.co.id/api/v2/item/get_ratings?filter=0&flag=1&itemid={item_id}&limit=20&offset={offset}&shopid={shop_id}&type=0'\n",
        "\n",
        "author=[]\n",
        "comment=[]\n",
        "offset = 0\n",
        "\n",
        "while True:\n",
        "\n",
        "    data = requests.get(ratings_url.format(shop_id=shop_id, item_id=item_id, offset=offset)).json()\n",
        "\n",
        "    i = 1\n",
        "    j=0\n",
        "    for i, rating in enumerate(data['data']['ratings'], 1):\n",
        "        author.append(rating['author_username'])\n",
        "        comment.append(rating['comment'])\n",
        "        \n",
        "    if i % 20:\n",
        "        break\n",
        "\n",
        "    offset += 20\n",
        "\n",
        "print(\"scraping completed\")\n"
      ],
      "id": "0ddded38-927d-4cba-a156-e9d35419741c"
    },
    {
      "cell_type": "code",
      "execution_count": null,
      "metadata": {
        "colab": {
          "base_uri": "https://localhost:8080/"
        },
        "id": "AFDuysMg_tgp",
        "outputId": "7b717be3-cdaa-402f-adfd-104a3215514f"
      },
      "outputs": [
        {
          "name": "stdout",
          "output_type": "stream",
          "text": [
            "Mounted at /content/drive\n"
          ]
        }
      ],
      "source": [
        "from google.colab import drive\n",
        "drive.mount('/content/drive')"
      ],
      "id": "AFDuysMg_tgp"
    },
    {
      "cell_type": "code",
      "execution_count": null,
      "metadata": {
        "colab": {
          "base_uri": "https://localhost:8080/"
        },
        "id": "40726f78-3ca3-4335-9803-2fb5b7d3d86e",
        "outputId": "d91b8ae4-ac09-48a2-aa83-321767b41752"
      },
      "outputs": [
        {
          "name": "stdout",
          "output_type": "stream",
          "text": [
            "writing completed\n"
          ]
        }
      ],
      "source": [
        "with open('shopee.csv', 'w', encoding='utf8') as csvfile:\n",
        "    fieldnames = ['author', 'comment']\n",
        "    writer = csv.DictWriter(csvfile, fieldnames=fieldnames) \n",
        "    writer.writeheader()\n",
        "                  \n",
        "    for i in range(len(author)):       \n",
        "        writer.writerows([{'author': author[i], 'comment': comment[i]}])\n",
        "        \n",
        "print(\"writing completed\")"
      ],
      "id": "40726f78-3ca3-4335-9803-2fb5b7d3d86e"
    },
    {
      "cell_type": "code",
      "execution_count": null,
      "metadata": {
        "id": "40643801-d3d3-4e06-a7bc-2522cda38a93"
      },
      "outputs": [],
      "source": [
        ""
      ],
      "id": "40643801-d3d3-4e06-a7bc-2522cda38a93"
    }
  ],
  "metadata": {
    "colab": {
      "collapsed_sections": [],
      "name": "shopee_scrap.ipynb",
      "provenance": [],
      "include_colab_link": true
    },
    "kernelspec": {
      "display_name": "Python 3",
      "language": "python",
      "name": "python3"
    },
    "language_info": {
      "codemirror_mode": {
        "name": "ipython",
        "version": 3
      },
      "file_extension": ".py",
      "mimetype": "text/x-python",
      "name": "python",
      "nbconvert_exporter": "python",
      "pygments_lexer": "ipython3",
      "version": "3.8.8"
    }
  },
  "nbformat": 4,
  "nbformat_minor": 5
}
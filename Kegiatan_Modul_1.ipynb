{
  "nbformat": 4,
  "nbformat_minor": 0,
  "metadata": {
    "colab": {
      "name": "Kegiatan Modul 1.ipynb",
      "provenance": [],
      "collapsed_sections": [],
      "include_colab_link": true
    },
    "kernelspec": {
      "name": "python3",
      "display_name": "Python 3"
    }
  },
  "cells": [
    {
      "cell_type": "markdown",
      "metadata": {
        "id": "view-in-github",
        "colab_type": "text"
      },
      "source": [
        "<a href=\"https://colab.research.google.com/github/ivandwinugraha/vandwi/blob/master/Kegiatan_Modul_1.ipynb\" target=\"_parent\"><img src=\"https://colab.research.google.com/assets/colab-badge.svg\" alt=\"Open In Colab\"/></a>"
      ]
    },
    {
      "cell_type": "markdown",
      "metadata": {
        "id": "GqYkgeEdhDa4"
      },
      "source": [
        "# **Kegiatan Modul 1**"
      ]
    },
    {
      "cell_type": "markdown",
      "metadata": {
        "id": "ux11t5HIAiYK"
      },
      "source": [
        "**Poin penilaian :**\n",
        "\n",
        "* Tingkat kesesuaian output program\n",
        "* Kerapian kode program\n",
        "* Kesederhanaan Kode"
      ]
    },
    {
      "cell_type": "markdown",
      "metadata": {
        "id": "omlcQzYu6ppu"
      },
      "source": [
        "Kegiatan 1 : **5 poin**\n",
        "\n",
        "Terdapat suatu list seperti berikut : `a = [\"saat\",\"ini\",\"kita\",\"sedang\",\"praktikum\",\"data\",\"mining\"]`. Buatlah program untuk mencari suatu kata dalam list."
      ]
    },
    {
      "cell_type": "markdown",
      "metadata": {
        "id": "o_YA1AZQhWiW"
      },
      "source": [
        "```\n",
        "Cari : data\n",
        "Output : data found at index 5\n",
        "```"
      ]
    },
    {
      "cell_type": "code",
      "metadata": {
        "id": "S8w3r2KA5I3D"
      },
      "source": [
        "# TULIS CODE ANDA DISINI\n",
        "\n"
      ],
      "execution_count": null,
      "outputs": []
    },
    {
      "cell_type": "markdown",
      "metadata": {
        "id": "fPPC2Tml-HuD"
      },
      "source": [
        "Kegiatan 2 : **5 poin**\n",
        "\n",
        "Tulis program Python untuk menghapus tupel kosong dari daftar list tupel dibawah."
      ]
    },
    {
      "cell_type": "code",
      "metadata": {
        "id": "jWPFcTI7F-f9"
      },
      "source": [
        "L = [(),('informatika', 'umm','2019'), (), (), ('praktikum', 'data', 'mining'), ('Berhasil')]"
      ],
      "execution_count": null,
      "outputs": []
    },
    {
      "cell_type": "markdown",
      "metadata": {
        "id": "SKK50Xdwhh5P"
      },
      "source": [
        "```\n",
        "# Output : [('informatika', 'umm','2019'), ('praktikum', 'data', 'mining'), 'Berhasil']\n",
        "```\n",
        "\n"
      ]
    },
    {
      "cell_type": "code",
      "metadata": {
        "id": "8Tip9AweMJPe"
      },
      "source": [
        "# TULIS CODE ANDA DISINI"
      ],
      "execution_count": null,
      "outputs": []
    },
    {
      "cell_type": "markdown",
      "metadata": {
        "id": "BebD64E6IkYt"
      },
      "source": [
        "Kegiatan 3 : **10 poin**\n",
        "\n",
        "Urutkan daftar tuple dibawah ini berdasarkan nilai **desimalnya** dari kecil ke besar."
      ]
    },
    {
      "cell_type": "code",
      "metadata": {
        "id": "VUPWITxTIjxK"
      },
      "source": [
        "courses = [('Data Mining', '19.10'), ('Natural Language Processing', '10.20'), ('Penalaran komputer', '15.15'), ('Pemodelan dan Simulasi Data', '08.40'), ('Metode Penelitian', '13.00')]"
      ],
      "execution_count": null,
      "outputs": []
    },
    {
      "cell_type": "markdown",
      "metadata": {
        "id": "MkoCh0jGhoS8"
      },
      "source": [
        "```\n",
        "# Output : [('Pemodelan dan Simulasi Data', '08.40'), ('Natural Language Processing', '10.20'), ('Metode Penelitian', '13.00'), ('Penalaran komputer', '15.15'), ('Data Mining', '19.10')]\n",
        "```\n",
        "\n"
      ]
    },
    {
      "cell_type": "code",
      "metadata": {
        "id": "1XyK6eKjMj9e"
      },
      "source": [
        "# TULIS CODE ANDA DISINI\n"
      ],
      "execution_count": null,
      "outputs": []
    },
    {
      "cell_type": "markdown",
      "metadata": {
        "id": "DORXqfrPK0gY"
      },
      "source": [
        "Kegiatan 4 : **10 poin**\n",
        "\n",
        "Tulis program Python untuk menghapus elemen bernilai duplikat dan menampilkan data beserta frekueansi  dari list."
      ]
    },
    {
      "cell_type": "code",
      "metadata": {
        "id": "emhJdGcPIUKU"
      },
      "source": [
        "a = [10,20,30,20,10,50,60,40,80,50,40]"
      ],
      "execution_count": null,
      "outputs": []
    },
    {
      "cell_type": "markdown",
      "metadata": {
        "id": "_5JYTo-MhwBT"
      },
      "source": [
        "```\n",
        "\n",
        "# Output : a = {10: 2, 20: 2, 30: 1, 50: 2, 60: 1, 40: 2, 80: 1}\n",
        "           b = [10, 20, 30, 50, 60, 40, 80]\n",
        "           \n",
        "```\n",
        "\n"
      ]
    },
    {
      "cell_type": "code",
      "metadata": {
        "id": "nYmaOHLwNS4y"
      },
      "source": [
        "# TULIS CODE ANDA DISINI"
      ],
      "execution_count": null,
      "outputs": []
    },
    {
      "cell_type": "markdown",
      "metadata": {
        "id": "td5pdXryP7fT"
      },
      "source": [
        "Kegiatan 5 : **10 poin**\n",
        "\n",
        "Buat program untuk mengkonversi numpy array menjadi list dan tuple.Isi dari array bebas. Gunakan keyword `type(varName)` untuk mengetahui jenis atau tipe data dari variabel atau nilai. "
      ]
    },
    {
      "cell_type": "code",
      "metadata": {
        "id": "GcBdjZGNh1Jd"
      },
      "source": [
        "# TULIS CODE ANDA DISINI"
      ],
      "execution_count": null,
      "outputs": []
    },
    {
      "cell_type": "markdown",
      "source": [
        "**Contoh Ouput**\n",
        "\n",
        "![image.png](data:image/png;base64,iVBORw0KGgoAAAANSUhEUgAAAUQAAACFCAYAAAAjKYFjAAAAAXNSR0IArs4c6QAAAARnQU1BAACxjwv8YQUAAAAJcEhZcwAADsMAAA7DAcdvqGQAABoiSURBVHhe7Z1Na9vY98fP7/8eAlnMwKSIvABTMIQuXOjCdG28boqTRfE6Ndk342YdskhMmG1dr4MXhXhRCmHavIAiwkAHpjQvIv977oN0JevhypIcJ/l+Bk0t3ejq4eiee87RvUf/uxUQAAAA+j/9LwAAPHqgEAEAQAOFCAAAGihEAADQQCGuCl8P6MmTJ2p5PaYbvVmSVXbf+Tmm1+banhzQld4MwF2QoRBvaPw69pDKhxcPbW20hnR5fU3XZ11a05sC0soCZVlELka2ank9cVSxtmLmZVjsSbiZvJb7HXzVG5j1Lp3xdX0ZUktvAuCuyLUQWy2fjlwbDFgqUsEce3Q57uktbtxM3tL05SVda0VEe29p/FMXZvF0X+0jlwn1To7c9mOEMm2ee9SD1gMrTK5C9N70yTu/mHPTZGO0LIRw/YoOhLUyDqwBXmeLQlkwV0N7W7hdWZ+vIw1M1ungIhrLwyy2xZN6vJyytDp5n6hlpPa3rR61b/Ra6mCtc5ZsTebA+5119F7rz6ndmpH/r1p15qdPPnnkrev1TMQ96vo0PNgRewCwujjEEBvU3hzQqe3m5DKigd+ny8MWjbpH5H0R1oRoPr5WEGqbsjQmuyNlgQrXqb87o+lno8xu6OJ8Rr03+Q1eKgbLcvH2TgPFxoy6U2rr8uB4mrSytDobr4RrdzIN6/86pZFwZ3ee6vX7xs8Lms561HY8f9khcCexNSBvvC+ejnyuhh3yD99T10l5AnB3OL1UYSXgHxcJ5rdo+Eo3ld3+XENoWY2j8aJHM/+H+i2OQ8Ya5YZKjoomEtvqCHUcKl+mdbgTNNzG4Dq0jgSpZWl1SsU9oqnuIK4+jeaUtlKmZ/dAAQjLrYBiY/gemU6CulHLOBFxHzs0idxzAFYVJ4UolcDmlC6KulVFYfeNlDV683lK9PK5gzvI7phQSuOwoRaLqCWRXScr8ZHsIK5oeuJuXa0W7Op3iMQ17i90/g3aER6A/09WN3lD4+MR0UlHdyxNGszYKhe/H9rbcvAgcFOIgsYLjwbHQknZfPe1NTemt3viSS+MajC9F8Y+WaPuG6FsPh3Q6Z5HfRerQsayWuT9plZvJkfCmitJXp1Pd4TtOqXT4ZFwBUML07CsGOLCyHhtGWXIXAkZzcj7I0tGQp5nplPh5ZKGLVIdzQKxTwDqxlkhKiUwE/8p1jp96s0G1OSef8unfoE3nbO9ZmAx8NvOSKN82qbeyYhGu203N07HHgdbXN8Tavpt2ehKkVvnGj1/KSydE6L2szts1satF9asOBvq8G8Hy+vqr4GUo7TUpBwc9zPxQ7moOPDiChWA1WPp2W64UR15lxkxpbKu3HJgK7B53qbLqiwdVm48hCapvqyyhwJbrdyxXrvHMwGoGncLcUlI93Tl39oqd9HlDTgA4P6wOgpRu3/NPY8mK2sJmRkePIwk5upXgQlBJLmvWWX3GRnPFNe1pdx4AO4SJIgFAADNyrnMAABwV0AhAgCABgoRAAA05RSiGQf3kIP9coml1nrI1w3AI6a8hZiUp89WGHrJnfMawOMQzX4Osz0SjsWL0/Hi+9pZbNYz8vSZNFgF024BAFab+lxmoyj14jRExZpSpvZzSJAQydHHC887DqfdpcPzlYkmwX6XNPxeIL8fAODBsVIxRJnQoeT4PjmwOyHDzjy/k9caUcdYhV9PaTBzze8HAHiI1KcQzUBiXpzibCr/oUcX6bG7XHgGCYWpxzJRiQcmpDOx8NQ4TBsD4FFTj0KMuLHCFSWhHCNZptMZnRO91/teHvqhBeeAu3XIqFknnKuPjzXZZAVeVAEDAB4SS3CZOTOMe/oZe37w2h9emGIsj5+cgszVOhToTNGTgfr7xoBTU4WJXwEAj48lKESdCCHIeZiGUpyjT6GNxtmoW05JYsXfckorZ+vQYGfW/kE+JtMC8KipRyFGhrO4p/Ja67yn4XeTXVm5s06p54V1eHRifbbABR5WM/aCnIe1JWwAANwbyiV3YMX3mPP0PYbrB+ARsQSXGQAA7gflFeJjzNNnQgIydT8A4KGAfIgAAKCBywwAABooRAAA0NSjEE38bVVii/p83DPu3E/k96ALzOxZKo9EBuB+U49CNKmzViU91rpHnv4J7gjIANwDCihEzlPokJ8QgAKstFULHh1uClG6OzzjJJaf0HaNxfJ64uAcx/aJutTmM59msZMtZJXl0aB9YbFGZ6Gwgj+gMTdIXWd4/nHlH67zh/YPJvoaREPmdd5XuoJ8beJ6rhLqlH8XafhcZ74LyQrjtThemDQ3et1Soeiy5p49QEjVb8oi+/GwIevceQnOI6ssRXbyHBLkGH0ekmTAs5POVMahVQitAMDDbjL5+93txsb27Yf/9Lrhvw+32xsbt+/+1utJ8L7bH25/6dUkvv1p1cF//+c3vRIjq2whvt2+E+cfnJ+8nndiqymzrzlc5/Pd4L/T17/98Zfcxv+aexKcp11npH6Bw71hfn3cFscL71FwLIEss+qQ6yn3iMvMfkqmsftu6skqixHKLna/4tfqgLrOYvsAUDWZFqK0EmRW6fnM1ZzMdbY7WWDub9Ry6ZwQ+f9o2+A3j1onPJc5wfrLKluYFg0P9LQ7GeOykz2k0zrc0dP4etSfm2sdZtCh9efUbuk617vU3w2z6XDiCjuzTybWff7da9HM/yF+qfyR6XVELWq2HtV+mtaQdozsOF2bPf0wtSxNdg3aOSSaflZyVIl+zT1ygy3F6zFRR9SLFy/grshUiI0Bvxjhh7S62OHVsEMj0cBNvsTJri5gzMuY6zZNZaOzjptVdk9ovOjR6JhdwyuanvSoXbgzcedm8pYGFH7G4fLQPQVbGlmyW3vWJto7FVfGipqo/cxJ1QdIt1t/0gEJNsBdkR9DZAvhi1BCW9GemxtA66ToN0huyP8uDBDvd7X6k7PUqJ9RVLxpsjsj/1+9KSCrrErC+qUiUD+LwZ8loDY9N9b10x2hoqZ0Ojwif86CMhadqwW8Rt4mhenSvh5EYog/OJfZphdYdpyCrRw5sjMW8FBc82axNGzsiTTP28hYDu4ct5cq0jqbEHVjFlskfZYVRLfn+kbmOq9R902PZntNVb7lU9uyXOwXBLxw+i9jLWSVVQ+7gC0addWxjrwJDZ0NrJF0++R5ssUTyYTDOR/FXwhFUtSCSqIxmFBPhhHEsTjrjjXMqfFqqEMMfC5H5B2WHQKVLTtGWsAnI4fclyEsV5m1HBmDwAqAucxVwm9h01KFaVgBSGvoISoA7gil2wtLD9xP3CxEUBE6e7jry5R7hXD5j0fWCycA7h9QiEvBxAcfZlZuNWaxSYNNxwznAKwocJkBAEADCxEAADRQiAAAoIFCBAAADRQiAABooBABAEADhQgAABooRAAA0EAhAgCABgoRAAA0UIgAAKCBQgQAAA0UIgAAaKAQAQBAA4UIAAAaKEQAANBAIQIAgAYKEQAANFCIAACggUIEAAANFGIK6sNJarE/0B+gvz2dWLZMzDeweZHfvrbIKgNz2DIPvjFeksj3xIdXeitII0sGdcgnToZCNF+KO6BAjPzdYXt9ZVDnWqVyagyu6fr6ssAH6l24ooMn1sf+q6I1pMtrcb5J33pOKQsaalWKUj4b5oGt5hrtBsBLlfJVdUfPU8n8mia7ekNV7E5kvdeD8AOtEUUpl4qeiwo7wflz5KX8ecbrtZVblgxqk49FroXYavl0VJM2vtc83ZfCuY+fFGVl0PT7dHlYlbYXHdL+lNpf1AN7eUg02C+vaE0DkMu4R6PjapQ3N8gO9cR/d4xRlHI5o+663r4gUtF0iSamzqQOsgBrnTPr/MTyZUgt8sgrc56i43x73ladtFwm5O2droyRlasQvTd98s4v5h5EefMtFyBcZyvogMa6Fzj4yuvcEyjLkhtjuC3criyMaO8j68zp5eTf8DeBZ0SjrqnTqidiuVRhahvLOXYcg91DW8dTFkmHRjSjwZYpt61tXe8SXFupaCxrpTxr1D0LG/Tasza1Zj79UKuVcPOPT7Tplf/APzfIPY8mg7be8FC4oYtzouGXfapSsjZXfw2IDnfK1b8uFOpsQG91u7iZHNGo5dHvcu3ucYghNqi9OaDTQu7KiAbaAhl1j8j7MhG9sU++Vh5qm+ohJrsjZYGud6m/O6PpZ6MOWMAz6r3J7uVUL6Zc297Y9Dq6cbIy3AotF9UbNUu6Xtz4VV3zFoZQase+eCjN8a6DD7cra4f3aVnl9T28d8nN5ynNdtsVXFvYcTalEitbI1uyA/LGK3LfTzq6YxRL2fjizwuazjyiz8oQqaROG9GWjk561NfP8+I0aF+01/Z5U8lV6ImylmyVOL1Uabwakl/IXRGN/pV+5Hb7c65A6/B9sK3xokczX9kSfBwy1igLmIa0U8Yl/dcXDdM+vlDuu0T+P+5XUow18jaVBVjcEtWKdoUejoUQFnI1yovhxqM7jzFRp2T8+mbylqYvL1cizBF1R0VHKZRjee9lJNrMe12nMBK+dyqLu1ZiHUq4k2tKOZhzXKUXfk4KUVpvm1O6+Fev18X6c2qTskbZyqCXz++dcjBxr/f0tvpeetXhcIGMYdVggT3dEV5A6GUU54pO92Y0Ex6CsqCs8MWdy0h11OWxLTjunCvq/IVcO5VYh4KvU+EiD+m9rIuNANEZzIRuWViu1eKmEAWNFx4NjoWSsvnua2uO4zIzuakY7GKOqPfCNB9xg970aPTpQDy8XgEBpAj/N49aJ0eReOLRSYvaz+pXs9IC4CC0uUeS38lrzchP7FiWF0PMR7uqBc4lDOinKEMdW13YCvp6SgPhEtoBfRU/dn37bFmbxioz4Qsna1bLp6SVmkjic1lQBmxMtISFGNyLK5rG61xIBqqNtlKsw2Iy0Njx5Z+ik9M/VwFnhSh7aNGjGrW31ukLzT6gJgtty6f+2P2dXdhLK9M54sI8bQv3YUSjgjEo6W4H9eqXHcKyPRsLRW5eYmxx/MjlbZ55+KMva5TQTVzLfkFiXq6EMS91vCm1D2wXWCv84OVPDY3LAfMQN7kTMzKMWEmsuMU/zi9GlPXFLlvHXLtYIg2POyfxjwmP5BO7l8ceXcaU7dofnvy3vhCIjep0xdFKWKkhRgZykXHu+HNZVAbi2ToYkh88Wx2i+LNeWAYC2RGlW4eFZfB0ny4P/fA5cW6TS+J2yXz7c+N2++MvvZbEt9t3Gxu37/7WqyCbv9/dbmx/uE28o1llOfz6uL3wvsn8uv2wnSf7otTzrKQ+o3w/N96Jo7oj7+OfRfYIgQySzzNfhyyOu4W4JNRr+JIvU8Di8Jt50XM3eaxYRS94lDWkvAHz1r0sZhgTjZcxFlRbq3XFR+NABneHVoxLI7v33SjcAz96gvsmlrg1kVUG5uBn09yvqiwQaeUZGSxoKT4msmRQh3zi/I//p3UjAAA8albOZQYAgLsCChEAADT1KEQdFJav1VdhXJ0+n/hYKRUUVkviOCq9X/kZBBZyLFjCHGgAwJ1Tj0Lk8X88+LXA2MRa4Qnl+qeNmlWy5BRfeiwYAGD1KKAQcxr6Q0Qr9qqGKaTzCO8tACuIm0KUrmPCyHfbNXZ1LWP7RF1qM0PELAnpsRLL8lDTtoqMlcp0p/UUKLOY685P8SWQSjY+Ml+c35c2TcU+haZAAQCqRQ6+yUKOZdu+/fCfXjf89+F2eyNnhDrvmzP+jccWBXXw36eN1coqK4UavZ98HUllvC3hfgTwyP2s8izUqP+6xlgBALLJtBClxSNH58/PNVQ57yYLjFCPzlHtnFjzIGUyBs4Rl2D9ZZUtlTIpvvKwcsWtRJIHAB4XmQpRvnSQeeiqi29dDYVLaaVOj3wfwbyMuRbuo1SY1nGzypZMfSm+uLPQueLue15EAO4h+TFE/nZIQnxLpom3U2s5cUP+d6KWpxOG/+S0R+pnFBXzm+wmpcrKKlsuxVN8ZRDEaZfxEgcAkIh2nR1IiI3Zc2Xt2Fdsu1xMLDFS9u72w8ftYL/IvE9erJhhVtliqPhgpE6xqHhhVpmK84XbE+KFsWvMP9MycUcAQFVgLjMAAGgKjEMEAICHDRQiAABooBABAEADhQgAABooRAAA0EAhAgCABgpxadjJKZY8y0YO+k6Z8siJKjBNMBeexlpb4g3IwIksGVQmHzkaMREzONkaWCwTOqziR6CSkjCUpY46mWUPwlYDyROvQ8pz/lyCQfBVfZhKJwJJHchemPjA+Srvpx54P3ftNcktQQZzkxCqOq49YaCkbOfPkZey55kn1ywZVCOfXAux1fLpqPIkBmBZ8Nxx//AyIQmHsFj35z8Szj1t0+/T5WFVaWz5OPwhdjX/+/KQaLBf1hpao+6Zqi+o868q5pOzFd8h2k1KbNyg/bFXwbnbJMtAYs33v05IrlIU+RlSmahF11lyrrycthqcn1h4Cit55JU4z5vJWzWP39TJ9zsi1ywZVCOfXIXovemTd34xdxB5g62kBuE6Jyg4oLH8DiybsSa7jXLZlGlrZ7zRrpx066KupKwzx5Uw35sdzIhG3QSXNJZ/0SVDTWadcffTXuff4nyv9LW7Ho9RxzTHiru32t0u6laJ8zk66VE/aW7011Ma0Pz3r2XiikGVXx5m5RU2aDkHfubTD7VaCT/8WTg/vgTcIAebE9p/oTfEeboj7tiATqtynVNkUD03dHFONPxS3zelr/4aEB3ulKp/7Q+PZntvddsVz/zxaF6uWTKoQD4OMcQGtTeLHmREA21ljLpH5H2ZUI988rWSUttULzDZHSkLdL1L/d0ZTT+bJs9CnFHvTXZPpnoq9RmA3lj3LKZHZQW1FVon19cT8vaaubGGzDrzmA2oI65d7iN6Tdo7jSm3BL4eSKtMHUcsnGGoigw6//o0220nPqQ3//jUevl86Rl1VNq45HMqhOyIVAfS+T6k92UTYoj63u55NMnsDNbo+UvxTH+qQDaCTBnIVHe6gyz7LPy8oOnMI/psdbqVZWgSZHW8RbASybBB4r9JSnSSJYPy8nF6qdJ4NST/uIh10qLhK/1g7fbnFEnr8H2wrfGiRzNf2Qt8HDLWKAuxbO8pFYJ9fKHcd638i7XQCxvV+nNqt8KOII2rT6NoA+iK9UgGHe0iFnRzZINLsZzYqvL+KPkAF4UVf67ScSRIBydc5pdTapZ6KWHc+nwLiq2YqkiTQdQdFcaEeDbK594cifb0XtcpOvvvnWpeQgiqsA4l/HLJGDDCmPCFd5Z03VkyKCsft7fMbL1tTumi7nRbrEC0ycuWBN2BBXNXhJaoXh5aPkR+2GUMq3q3ba3Tp14ZN5xd15n12QfukISl3xS/a3uz7IzqxMtjW3Cc5Lgiw0DItVOFdShgwyAwlrjDGwtjKSFcVyduClHQeOHR4FgoKRtjxUh3YyY3FUPFCXovTBMRltCbnjB5D+hUWBLuNzlFwDLLtpWzUZr2LWo/c6k366ExVp8KiqdeuYwRtel5jqv9u8ehhXjc0GaxGKKMyWjrOw4fc7EGoeO/Bc5FxkezlCErS1HnolbQzeSIRi2PbFvYxGSdFBq7anZnxF+LbA3pUvyOv4xKtrq1fOZiv9k4ySDxmS0oA+mpCAsxuBdXNI3XuZAMVPttpViHhWSgsZ9XvtdJZHk+WWUuOCtEFbCcBY1f9cqqF32y5VO/wCdHZ3tNeaM4TsBvlSIP3dO2cBFGNCoYZ5LudlCvfgEiexmhyE3Pv5XyRi+FtDo51qnq5DgHx0dtRtSRfy8WVgKBpWdeJNkfoVJ1sovEsdRgP7GUd5EEskOYJjZSqSzTXpaJ4ze5gzPyjcSbOAGu+MfZIrsSnRs/NRnXpz/Nmqa85xBKwn5RJuOvMYvauE6VWEEBKq497+aqzjPsKN3Ik4FcpAsZf2aLykAYGgfKBVX1JnwwrqgMGGlZp1uHRWXQGChXPpArh1fmPKU0GTBZZY7o4TdLgz8qlf0RpYxxc6vOCo7TTL/fi4+zlGPQqhqjKFHnUu3HtWp4jngcX9p1yzF+RWUPGRQmTwYl78nKKcTqBb1EVnLgesZDmTIwOxUzwLpC+ZgBvlU2RH7GuM5KG6K8j0n3St3f4spQAxkUIE0GTFaZO6ujEINR9Ks4E8aRlVSIAj6vrF61ls+7Piz4ua22cVtABk5kyaAq+eATAgAAoHF/qQIAAA8cKEQAANDUoxDtYRGlZhBUhD6f+gfZmvFovFjzqR3hed4rcb8AeKTUoxDNtKoCYxNrZd2j5Ak9SoFVpyhNFpb42EQ3eKAuAODuKKAQeWBxcasHlAX3HYBl4aYQpcuZMLo9NmPAaXZFbJ+oi2i7nLzYU6GyyvJo0H5sGpaaDZCWNiyuhKx1Pn9xzouk+Ipfe9wylZP650bmi3PXGUDqd/kBeOTIwTdZyPGBCQMe9QDRzLE/DiPHI+OHssZj1TJWK22mQHyQp7VuBsaac0kce5g0SJS32X8XX8+D/77qmQQAAJtMC1EG+eWk/Pn5vyqv3SQhE3MeZk6vWjon1lxHOfeW5zImWH9ZZUuneIov+jqlUWQ+L89pLjL3la3cS2qfN/HiBYCayFSIMnsyJyutMIbFKe1HVnr0iZ3ayLyMuRYuolQa1nGzyu4LkbTwvLgnmlAdiUqG8eBSgwGwIuTHEK0stnYMS6aCt1NrOXFD/ncK0/P85NRG6mcUFfOb7M7In8vBmFVWlKwUX2H9Uomrn/M4pvgyFu5CcUAZe+QYblIGYQBAZWjX2YGEuJiML6pJ3JHJ4bHtcjGxxEjZu9sPH7eD/cwk82CxYoZZZaUwMUG5hNdnH2/747fbD9uxGGKwxOOCdhkv1j2L3xenCfoJ9x0AUAuYy1wUttY4/2MNmZ8BAHdLgXGIAADwsIFCBAAADVxmAADQwEIEAAANFCIAAGigEAEAQAOFCAAAGihEAADQQCECAICE6P8B0N7MD1uAG0MAAAAASUVORK5CYII=)"
      ],
      "metadata": {
        "id": "EsLcbtQYO_OQ"
      }
    },
    {
      "cell_type": "markdown",
      "metadata": {
        "id": "5rATFK-MQVSA"
      },
      "source": [
        "Kegiatan 6 : **15 poin**\n",
        "\n",
        "Tulis program untuk menghitung jarak Euclidean dari p1 dan p2. Anda dibebaskan disini, sehingga anda dapat menggunakan library apapun dan teknik apapun.\n",
        "\n",
        "**Note :**\n",
        "Dalam matematika, jarak Euclidean atau metrik Euclidean adalah jarak garis lurus **\"ordinary\"** antara dua titik dalam ruang Euclidean. Dengan jarak ini, ruang Euclidean menjadi ruang metrik. Norma terkait disebut norma Euclidean. Literatur yang lebih lama menyebut metrik sebagai metrik Pythagoras"
      ]
    },
    {
      "cell_type": "markdown",
      "source": [
        "**Read More :** \n",
        "*   [Euclidean Distance](http://rosalind.info/glossary/euclidean-distance/)\n",
        "*   [Python Math](https://docs.python.org/3/library/math.html)\n",
        "*   [Scipy](https://docs.scipy.org/doc/scipy/reference/)\n",
        "*   [Numpy](https://numpy.org/doc/stable/)\n",
        "\n"
      ],
      "metadata": {
        "id": "lILvxKqAF0bR"
      }
    },
    {
      "cell_type": "code",
      "metadata": {
        "id": "0aIGIuhXh4ui"
      },
      "source": [
        "p1 = (1, 1, 5)\n",
        "p2 = (2, 5, 7)"
      ],
      "execution_count": null,
      "outputs": []
    },
    {
      "cell_type": "markdown",
      "metadata": {
        "id": "Llvbf5fsiQYN"
      },
      "source": [
        "```\n",
        "# Output\n",
        "Euclidean distance:  4.58257569495584\n",
        "```\n"
      ]
    },
    {
      "cell_type": "code",
      "metadata": {
        "id": "k22LwuERh27M"
      },
      "source": [
        "# TULIS CODE ANDA DISINI"
      ],
      "execution_count": null,
      "outputs": []
    },
    {
      "cell_type": "markdown",
      "metadata": {
        "id": "d2KMG5L3QmQd"
      },
      "source": [
        "Kegiatan 7 : **15 poin**\n",
        "\n",
        "Tulis program NumPy untuk menghitung frekuensi keluarnya nilai di dalam array numpy berikut."
      ]
    },
    {
      "cell_type": "code",
      "metadata": {
        "id": "ZZbDu5XOPPkG"
      },
      "source": [
        "import numpy as np\n",
        "a = np.array( [40,20,10,30,20,40,30,10,20,50,10,40] )"
      ],
      "execution_count": null,
      "outputs": []
    },
    {
      "cell_type": "markdown",
      "metadata": {
        "id": "XtKOzbP5icod"
      },
      "source": [
        "```\n",
        "# Output\n",
        "Jumlah nilai unik dari array:\n",
        "[[10 20 30 40 50]\n",
        " [ 3  3  2  3  1]]\n",
        "```\n"
      ]
    },
    {
      "cell_type": "code",
      "metadata": {
        "id": "yrj0ZAjBh4Pd"
      },
      "source": [
        "# TULIS CODE ANDA DISINI"
      ],
      "execution_count": null,
      "outputs": []
    },
    {
      "cell_type": "markdown",
      "metadata": {
        "id": "twjYUbSpcrdk"
      },
      "source": [
        "*Kegiatan* 8 : **10 poin**\n",
        "Tutorial cara mengakses kaggle di colab https://medium.com/unpackai/how-to-use-kaggle-datasets-in-google-colab-f9b2e4b5767c\n",
        "\n",
        "Tampilkan informasi data summary dari [House price](https://www.kaggle.com/shree1992/housedata)."
      ]
    },
    {
      "cell_type": "markdown",
      "source": [
        "**Output :**\n",
        "\n",
        "\n",
        "![image.png](data:image/png;base64,iVBORw0KGgoAAAANSUhEUgAAAvoAAADhCAYAAAC5kRGkAAAAAXNSR0IArs4c6QAAAARnQU1BAACxjwv8YQUAAAAJcEhZcwAADsMAAA7DAcdvqGQAAFfcSURBVHhe7b3Pbx5F9v97uKv8AYlAmqAhtplFVpEVKVI0GAdhyWKHsLyI4AOPFYiFsrgLCFZC+OoSHEzC4i4i5ITI5mqiSDFG7JAlj8iDM5+MIsDKKguwLUZhNECyn+x8T/3qrqqu7ur2r6ef9vuFOn66q39UnTp16lTV6eaJdYYAAAAAAAAAjeL/0n8BAAAAAAAADQKOPgAAAAAAAA0Ejj4AAAAAAAANBI4+AAAAAAAADQSOPgAAAAAAAA0Ejj4AAAAAAAANBI4+AAAAAAAADQSOPgAAAAAAAA0Ejj4AAAAAAAANBI4+AAAAAAAADQSOPgAAAIeH82PU09NDF37QB2rFMl3gvPWMzdFDfQSU4Lc5GhNy421s3khOyTLd390sTyn59PRcYMkoVFtI93c1P1zQ8rFsg9aretoKIICjD2rGQ5obcw0tAGAraFjbaq/QA/1zN2EGYWaznXQ/TW5TqraXv5ig9lvztDZ3gtqnP5c68HD+Ml0bnKJPRvbJc7ofo+Pu5jqheqBoNi0f4bBevjpIU3fu0tTgNbos5bpMn59u04m5M9SvzupywvIRm9GjfB3iaz+7RoMX79Ldi4N07TM10DZ6deawvBzUEDj6AAAAuoh+OrO2RmtrTXG+KsDO6Hun+2heln+N5t/i8c7pI54jK5xVlS63iRwpyXsRTV0Ypaa4+Qk8eLlrys9b6oQKJ3+ErokBj0jjQQ9dHUmdfY/lKXVuc5zYfTQ6k8pFbEKHhM4M/9XWgpI69MMFGrl6gubz0kEtgKMPwljLvHKzl8kL0tRswBjN/WbvpzMqcmmUz59Llkj9mYQjNNEWe9doxNw/xwiDishl1wt0Qct+bH4umdlKHYWc2S6NP9tjzyYW1S3YGdLQA1f+ZdqWXbdHTssTd5aofvqzkd7KhLZLF/i61D41bGXwqVGasQY4/S+yo8qs/BJvZ/Jc4dSOilnZYVo5M0F08RMafUqfsAuQKxjCiX1DS/DwmzQ1yH+vLtDyU8doeLBNE0dFOzlBp575vPlOLLeZy1f571unSujBPjr20qAcWAr7cOLtPvqcdak5qx1bgLRBY2zDtC2d4v5Q26xMX5nYKM8/cs41/fEm7dg6AD7/ubneOnBg/cDHP+oDFn6at//Hl631Awda6zf/I3f1/oH1ye/V/o8f87nW+Wp/cj190h/rN1v+MbAlfD8pZd/68g+rnrS8ZX38uD4p6qZ1k2uB0XUrzpfw/qT5zai6S+s6XrdgO/HbXpb8tuW3U39/R4jqpyGnHMYWGRn4+ttA8uot3cLtT55n2nmjMLphbZbu+DYplZffbpQt3FH97wDGZtvlLKtD8lqnXQLHH9L2TMhWysq0Nz6eyjtry1SdKH20f28GzOiDDDLmzp71sHj4jwU37alROiWW/sSMiDpSAn+WZIVW9AoA2G6sJdrBYTpmz+L8sEDX+M+Jt/VSvpzhImp/c0ut2HBdn7FieZ/uE1NhbVr5Ve0rULedpU0TX1Sd+3lIt75py3CHNzseolCgnyUZ9Gap2ytNjeRX8eN2ve0bmbHCMua5NYrVm+zKR2NDdvzQFCc05yGt/KTOMqs/R1ZOyXhz3441L2QnxDItiNl8r92X0iGE7BRy4kUjlxM07OvQ4TOWXu2jvr+Iv2k/2T8hZM52/MyYXG3x7dlGgKMPcuijvoByPVjpwJI+2BEe/rIi/14bNUuKJtTD4IZOdCS8A+Syb+QTHYbAjo2uo3KhUw8Izbrb0LHmYmA9k+ew99Ob0om1B9vchs+IlydPUd8Xpi03LLzJxoTm/LTCJTdOFTuuR1folHBkE0d1kPr265/SiR2kqRdXkhCwJoYgqjAma2InSEiHWPdM+JfpD/AFrAq44bEjYrDl0E9nxAC13ab2Fr0oD0cf5FB2JtaaJQFdzb5n+uTfE3NmNkdv2pFYnhKOf/qSlpoJA/XBms28M8WuC/cV+usqoEmIAbdw8kVbLI6PzkzM/PC5jD+ff2Ml8IWZJuIOYtUqpLBxqdyUjMzElvmyzCfU9/fsV4qag17FC804e/g6lHyp6ZkFpUti1r89QZ87L4SDMKbtCrkpW61ehrbRA6m3TtAgy/W9LWibcPRBBvWCVzgEoP8N4UBYab/dogW2A4MX37Q6HL0MKpeIXSMRJ7uUBXaIw8Nsfij5bFoY0yHqsAFQT3TYlUte2+qnYdHZtBfolji+oXYLdgo14BbO6kzxkj7Xo/uipXIgdtPLk/6s9b6/DssBcGLjtIxM//Vw/j2aoCZ9bjQHOeDz++0Avg5J29DUsK8dZLCPnhZ/jXwT0oHAqYkz9MlF8fLze8nHTTYKHH2Q5fCZNLYxWWLSy7viqw922lHx5Ya7NKMNowkfkOEfRxdoeE7NLFYhiVE7qp+Nr+7sEP10RswEtyfoSFLv6bK1GuSZL7Zcpr4N1C3YPtwvOZjVF9epy2tbzvENttvtxyx5m5AyrYu7KWxAhpWon2mIXSoDRwe0bVbhKdqBMHHn/hdmGuPYumERR4RTesf6vKbov2wbZ/dfLFt5vnZi3a8URRzirkKtWohwJfeTmop8HWLZyn0dMy4nhkQbZL2qxfs93cA+Gn2b9SrRvxU6JfwpiWijZhCv7Pa+kVPaLqdfMtwIT4g3cvVvAAAAAAAAQEPAjD4AAAAAAAANBI4+AAAAAAAADQSOPgAAAAAAAA0Ejj4AAAAAAAANBI4+AAAAAAAADQSOPgAAAAAAAA0Ejj4AAAAAAAANBI4+AAAAAAAADQSOPgAAAAAAAA0Ejj4AAAAAAAAN5Il1Rv8O8vPPP+tfAAAAAAAAgDrx7LPP6l9Zoo7+48eP9S8AAAAAAABAndizZ4/+lQWhOwAAAAAAADQQOPoAAAAAAAA0EDj6AAAAAAAANBA4+gAAAAAAADQQOPoAAAAAAAA0EDj6AAAAAAAANBA4+gAAAAAAADQQOPoAAAAAAAA0EDj6AAAAAAAANJDd6+j//hWNHzxIB09+RY/0IXCPLh0cp69+17uae5+ynISsks2c84i+Oumn6e3Te/JawaOvx9PjUXmLPKT3Gf96i2pn+VKaB+fe5crgyCBTBjfP9nUKN/3Ssj5c8tn5qPum9xP497zEZ+kUux6cLe+crC7E0l1dSe+7Zch69O/ryd+rn/w8e9dZW6p3rjyz+hire5eY/FJCdevJ19dDY9Pszc6Pl54pi9NGtqHuNoSnz7F24ZShSL7VcOotYMPcevXrzdWRmA4V10usTcbqraI8N4DMT2EbzOaxOD2W51h6TP4u1eRZHve+lo4E+ia15dsqvwz5fbRic/L1qSbPygh5BNpYrG8pTo/k2bONvt3dXBusgXzXI/z3v//Ftiu2f65/eODA+oEDr69f/8U//uH6P51zC7b//dC5x4Mbr/N+ev0/z/Mzzv/TvSbZHqxf/58D66/feKD3VZ4+/F//vOqbeG7p+3hlkHm2ZSDS/+f6+gO5r/KclilchmT/l+vrr2dkbG3es4s2lS+3XPJYkjctf2vf3dy8+XWl8uLvW3nz0qs9eyOb0VErTxn563zo/WiZvM0937+3r4+xune3KnnJrVv/ek/eec9WemffzyuLV7dbX3cb2+y6jMk307YidV128+vNzRNvnuzcfGidtc4X16dl8Mvk1UusTN5+rN4qyXMjm9azjB3IyKd8GWJ5Lk6PyNffKsqz9FaoI/6m8pxfJr8MYt+Sp79tUr7uVlGeVTeZV1d/xCbz6OuUv59bRpXHtIzqfkkZtM6mZVJl3Ko2uFPyLaL7Z/StmfmvrBGdPQoyI71Ln5pRGY+4QjP63si6cDYtMKLsVlS5jtPqWIsG9LGE31dp9bke2q93i+GR6KuzNDD5Eb3ypNh/RN8tLPF+iw7JdKJDL7SIZhbDsluepXO3WzT+8l594BC1Jgdo9tvNSvoRrf48QD1/0ruF+GW4R4szRK3r7yZloP4WnadzNCv141dau83pL5jUvfT88AAtrf6qdpcXaZasMj35PA09t0SLd0KjdP/ZBbCuHuf7sjRTWKenZwbo/IevcC4Ue1+epvtX0n2be58ep9nnztNHMm/ZupLlfG6WFnU7ePSvVaLnhuh5k7f+IX4+64ec3dByOmk/e5xatxfpO2/2Y6OI/BLrqIPWmRvvJLmmQ+/cp/tyP14mB5bf+2eX0rr+/TtavM3yfM1cfYiGxsjSx0jdO1TIS6huo3rIuVldot4/h2qan35nkZa4rlv9+gDfxW5b976dZdmOJ3q39+gQDWxh3W0Io8+J/PfSKydbtLTwHUszy72/naMlqwyFdV2amA17RF9d8drsk6/Q9P1pta/bv6Ofr50nOjurro/YvOIymWeneStscxXlWR3OzweL1Dtm9yJGfq58xsdmaVr20ZEyxPIcS6/Up1SUZ2kiOuLx6Ov3XZsWK0NhH71J+fpsWx+tZ7FfXaWWoz+CeN8ibB+NDaVllPZrjS00E2mDxjaqflCgZDB7RfmGm2qDNZFvc0J3bp+jc6wMhqWzAxlHfXaGOzOBpRAJwslnJ8tm9tXU2RfO8HHr/pxKxwPLS11J73laun+fpl/r0Qcs/r3G/yzSQDLAyV8Of/T1tOU4Clipr/B9k32Wo3QoAvJnlCPpGqy9f+7NHxiUhh0y/nfxmClD/nJYtgyC8CBh9V/iHvup5znb+dMdW68uRf+7dP++5Zxp53HoqH1/RfjZIcSAgNhwDel9hTJYQ6kjXoQxQMmgIFtXxpE1yLqwOz1pQHupVz7vEL3LOvRu4kgyogPSPzeNdH5v0Lsv6H1NkT6VKZONMuj8DFOGTGesO5zEsY/UvUPZvITrVlGkh2owu3ol1XF7iTg04JOdoyYdHCkq6dJ2wbaHhy5avzR/6skZgIjys4Qc2e+l3mft+tkIERtW0J4Tgk6YGiAX27xYmZT+uIM7oZM5EwmV5Fkd4aAuDn9ELc6+T2gAqgbEkTLE8hxJr9anVJRnWcroSMI9mrUnG5hoGQr76E3K12P7+miinskl7iunA/oT71v29/LgwMqDsl9WPr08K8wkFfNsr2MbJXKgsMk2WBP5NihGn52WW9xZsUIs8QhIkDHw3ImLdLtDU6hRmaB1Xd3j/nU1n6buoTp4YidMOMTJM3hwYWbTuplDL4dnfAVC8ZZu99INXe7713vp3LGQs68NlDXqtjExbMdn3JF1Br/BiUahf24YYRRuc3MzdXv/BvXyQDDr7IfKIGZxl+jcB/bKjxh16998pnAEbrAbqozsAK2d9B06gZ6xOHaOKDhjXyw/GzEgWLVmEBxYfmTHC+YMRjOzFAHMwCOZBRaDlltD6YDpSg+3B2sQ41HmGeUQ7XPVmhVxEUbYWW0riIHMlMmQmXmx4efLGMvjNGsPBErXfZhQXvLrNqaHosNhx31YdJZCx5fo/M+crzxZ5JVXr2oOnCVnZahj+B30k9xp6p8hfIdSOgBbRL4NE3myY3wt+yhWvbifeN9eYRbtQv+WRGxecZn8wZ9yQnKpKM/yCPvVa81EGtQq1+yr1gq41D39WxIpQyzPsfRKfUpFeZamQEcscu1TQRniffQm5euzHX0027dXStpNgd+3yImM60THtXwHVsfTiY1IG5Sz/zPHrYnh1B80bKoN1kC+zXH0nUofV8veP686Tk46E+ejRmV8Bg3ZTo1oNMKgm9EjK4sZNQ+wUyZQs2nNRTYg25ljudwQDsffPAdCL48l8vNQ92F53uqh6YJVgW1BzszaMwKH6F0eyC2d1cvnhpwyHHqHnSZK6/7gt0MsA52oHfjp3tTB6hGzqhkHS81KiHPGVwey6RH5JXAn+f7CUP6sPxus9+kjnRd2Qp/lfGecfX9mOotwanxnTzo6x9ZoXN/7/sk1lkm4LtUKWGRQVxIzU5g3YBCrd4sv6DwVOLihMhmKZ7CVQy/uv9Q7bQ2eytZ9lmBeInVbrIdKv9JBBuf5w/PcgU1n64efM5434DR27/44rfGALvNS2i4m34bN0vEPiD6ScuPNcbS4Xm6JMAFu87reFl+4ofqnBiHD6uywMgshtxtjLCOjtyyrcT0Zt3so0hGDXhEcfj5jn4oo3Uc3hFDfIid65MSTkq+000l4daQNCv+A/QERwaHS3yc6ybZTJzeB5jj6nlO/U4TjcZtNaJasOITCojBGnfHrUS59bQOBUXJ+GVJHT27v7JfLeXKUrx30dCarwMHShN5TKCe/RzIGdqhopnXshjOjLGIRM8uEkUFF4oTessNWsrHKeR1KYogLZvtLExvYMAOTS+4s+8msfMNlMpTvYJ3Y9Q3UvSBPvtG6FffP08MQoZmjxMlfiqw8+O8jdAgTZ2uIhIP5Ey92eNKWkbFhrOt2WJSM4bXS9USDqbd3/yTKwHVj6j5i84rLtERr/9Y/JSrUIJeK8iyFCasrmKSQoWFGBiwr4jKk4RCRMsTyHEuv1KdUlGdpIjoiKArxqdgvun30JuXrs1N9dIBw3xKK4f9IxtGr90CYWBtMJjjExnaZuEzWTPym2mAN5NugGP3UmZHLX+KHvwSSi4ipEn8txRAdohjdidk702FaoTvJtgUzlvVFhSz4IS5Cyd2YtbwZYjXjWXZWUMaieY1CxqyVGUAUIByrTAiLaDzOklp8ljtBG2R3uS5M8NkZSj5bPpcd6+Rdg+NSz8VMhKgjKT/fSAQoGlQIQzpwViwDhxziGEpfjv8s2skWOPmMnGm3VtLUezRidlDNhokOLTbYjpYpr4OVYSxb+9J9bl4idRvE1sNQXmWHYnVm4hx28kUIm+vkh9t5x5GDcS6DPWiS7Ta08qKWy11dUB1uqTadS8SGyb7By2MEO3642ObFyqT6LdcJEavTOc5iJXmWR9qTGRO+ple7ZZvNazvK3qkBaqQMsTxH0qv1KRXlWZaSOpK3qlhchlgfvUn5emxXHx1na/uWTAy/h9Rp6T9usg3WRb766zu5hD7jU6vNfM4rsJlPEsnPG1n7znXmM0jms07e5t/D3fI+j9WlW+CTX/5nqzKflhJb4DqzxT6D5W7b9OkuXdfpfQL3LShD6PNY6b66l/9pLj/df7bzea2CZxdv/r2zn+6SebfkHzrHbMV1k6cLab6zz9qGLaN/YRkY+cfKJLeQTsvNl1W4bvPT3a1UXpLNL9fG9DDZz7QBb/Nl4NVtp7ZQmUO6Kze/HeXWa7VN1luBDfPTXdl59ZipB79MofMLyuTtZ/LibZXkucEtKC9rP2MnImWI5bk4PSJff6soz7Jb5j6OjqjNLYe9FZdB3rtAJzYrX3erKM8NbCGZZ3TG2/x0VyaRNhhsY9b+JtvgTsm3iCfEP9rnD/L48WP9q6bopWjxeaTzz6Zf3hHL+WbWSi338AjsuhWnbV23ZJbUxIyX9eUd+x4Ccx+Dc78mIGWySENeeIMKNTCLR+KlZ282UsqNckM1XLnZy25ilD5Ai8O2nMUMmprNFPh1sGFMfevdzH0Ly6Dymbz4aOuMxM1zJn0Tz5ayXxjynmdQzyVHD8vl1b1G4JXBws6vqwtWG/DKaLOl7SQoKy/v4qV7udJWoUwRGWfvbfDSHXmrNCXrcnlJsa/Vh6rqoZVX33YlWPeItvOO4JXZkX9ARo4N37oy5NswRaHsYu3fq7ewfcgvk/vsmH0tkufWEGpP1eTnp8fyHEsvkG/AnhTnZeMU6kiwrmyKdaT43rEyFckv0MZi+rpJZF5t/SnZt7g6VrENOm3Mva9kw21QsDPy3bNnj/6VpVGOvtvpAQAAAAAA0GyKHP0GfV4TAAAAAAAAYICjDwAAAAAAQAPp/tAdAAAAAAAAdikI3QEAAAAAAGCXAUcfAAAAAACABgJHHwAAAAAAgAYCRx8AAAAAAIAGAkcfAAAAAACABgJHHwAAAAAAgAYCRx8AAAAAAIAGAkcfAAAAAACABhL9H2YBAAAAAAAAug/M6AMAAAAAANBA4OgDAAAAAADQQODoAwAAAAAA0EDg6AMAAAAAANBA4OgDAAAAAADQQODoAwAAAAAA0EDg6AMAAAAAANBA4OgDAAAAAADQQODoAwAAAAAA0EA66ug/nB+jnp4eGpt/qI9sAT9c2Pp77hqW6ULPGM39pnc1y1M9UqbpZs55SHNjfpreppbltQJTz3Ibm+OrihB5SO+zK+pR66zaLrAEyiHlaslZ4deJd7/f5mgsSeuhCz/o4yXrMpZXR1eidd0klPxSeebgyC/b1py2kpFvqI7scyJ1z3tFbct9djZvncErU0bfPSLybSLV7GtFeTYCV+9jbbS4DTYc2X5iZd6FffSmqCqvbZDvegf548vW+oEDB9ZbX/6hj2wB309u/T13BT+uT7LcDhxord/8jz4kEccn+d+SSPmn91B1nF7/48f8jI/z7vbH+s2WXXcqT5Pf690mEpJX6yZLohjTdnxZSvla1zv3+8/N9ZbTNpS8c+Xr5S2WV/lsW1fE+SXK0v0oOYr6KNRVKX9fnp68rP2MLojrC+RZWPc6j7ltK1jXFdr9NuHaC78MHjH5NhBlB9IyFtvXivJsBErPkzL6OuITa4ONxvgARW0mYkeAh5ap1SZFG8xvc9sj35o4+je1gonNb4RG+fSWMWJ2OiuobKipoJJnfDwpnRz7/tLoJdcGGr92jJJz7GebNDYCN5P76HvY1zn5VZWY3I+3OjQQIwclI08OoiylDZ2qi1RJAx1JUecbSJP1l6nz5pDpmGMdUaJbk+uTFa8NdlpC5sH69esylteQQVL13+ROwNiXA9x2suV3ycjPkU+grUiZWvUp6iqvLcT0JtK2srrhPbsThMqUq68x+TaRiva1ojwbQUYeoXZmKNEGG4xoP5Nsx3L1RxCxI8Aj1B5lO8yR8TbJtxYx+u3TE3RN/+Y9mjhqlo7EEsaIlcZcHbGWMsQypJ1+jUZGnbMT2lev8Z2ZwWE69hTfeaqHRq7KJI14rrWsJ0Icjk6oawz87MzSaHuCJpL78D3OjLnX8TXmnstTR2jCuSHneLQGy8t9U3R3bY1m3ujTByx+XeF/FuhIspSUn9+H85fp2uAUfTKyTx/ZR6MzfN9kn2Xwd66ft4apX+/bPPyFnzXYR0/rfcG+ZzhPVxe0PjSP/ok1WptIpfHwHwvU1jqax/AcX7N2hob1vqHMtfSXPq4Vj/YKPdA/Ddm6LJPXQerbr39arPzS5KXdYZrntrM24deGz0Na+Umot6Pd1PcXtgF/F9r9gFbYNvQ9Y9fO09Q32KaFfyj5ifYx+NPlZEnXXmKP1X2sbcnf7QW6Zdr2DwtsTfuor0iXthu2PW0/D/v7aNDOZ0JMvk2kmn2tJs+GcPiMtJWJPH67RQvtQRr+a8YKMvE22Fh+uEAjNE9nXtT7OezGPnrTePJSrNBKoM1tl3zr8TIuOxTC0Vxbu0tTg+LANVoQzrHsbDj54l1OS9Pbpz9Xhf7hc+04n1CdLW/zb4n9AOYZM6O0j534y9I5T69bmzshT7v2mXLkl79Qzrr/bOHYf+7E+A3S1B2RPs93Y9p8lb7G5MV1dMz5Zpuh0U52pkz/CMtE//YRitdu91ly6uMBUcjZX6bPT7fpxNvhe5m4x5GrLHPLWczgO6KiI9I/G42OLT5ymmjqQn590FOjNHpY/w7B8qOcmN19fx2mQWvgKZyjuc9CA+PiugzntZ+G3xIDXWsgnLTP5rKP206BNmdwnQh2I/ps7fYHSspRNTxgL6TNAwtlK9fo7sUVGrHjaQvqXlLUtoRDdGeYFo7qaz/r4+dYDlKn8DvJp9hR1T9DFMu3uZS2rxXl2Rx03PPRCe6fPynoc4vbYDMR/cAKTb1RsrXv1j56IxwephPsM75nxdkb3zKXbZBvLRz91KHYR8deUkUSzrEc3TDt00d052VmxNVoyKQPXnwz6ZD6X1QOu8/gS8cS4cnZL/5rX0eH39SOvJjdXKYFPRA4Zc9Ov63u7TjuySyaGPnLA8lsgd/JqLyplQNVnvq/6LNvZIadCqvDZ4dgXjh0X3g5l4OyEzSc44Sq+7CDcqePLu+Sl+QqIWeehAN3ilbslaWqsCP/Hn2i78WDzb9M0BHj8PEgYYYHtNdGjf69R/T2VNaIROoyL6/9EzwYJn6evDdvfx/OH3iDysgVFTFRoff3jXzCNusaXTadSFHdR5CO4tEVOqWvXXt7hesR7bRbgH2N0U9ntG6fWmF/Yle8hFyOh/Pv0cJLRYMfsHFY7+5MESU+bA8tvKgnhXeQWjj61Zf227Tyq/65AeRSSCHGad9itIN096K5+TUa4YrfsFPXIUKzZIVLxjZPHaPhoqXQn1Zcx0QuN+8mxMz4JsIN3pp3lvL732BH3l6aT5x0sc3QKA+a294sX+m6zORVhRIk9594WoZT+LOsuxnf1olZ+hTfrqlwlHy82cZY3ee2rYd065u2N/GRM6Dfafywst9WWGPzKZbvLiBmXyvKs4nICbfcUIiqbbDL+W2O3vtm2AnRjLLr++iKiAm2pM9dozP7RZsrCIvcBvnWI0b/m1u6YKrDEQjnwDjkafiMJazDqcOehPLw9eFQBA+9FJJex5gwA+n0mA7Umi2z7r1ZxyWZfTHhQrWNIRXvQGQ/7yQ6TzcWVq2AnHjRdw3VcmnZgYysT68jkqs2pZzObiQs340i5ecbiQjSqXeWCvPqcgN51fGwobj93YeyKe0VR7ulE6FkrSYXXEdVxAybFcJQW1LXJ7ayoO67sm1JO+3FsopOL/guQky+TaSafa0mz2YgV6pKrmrF22DzkNENbWsVVr7jKCYgw6tCu6+P3nrU+1ReCJ1m2+SrX8rtCMkXKzKbeetYfckjk558JUC9JZ9J5828OW+e4b9lL7/Q4F0jtuQLDfLN6MA55tkmPZOX9A1999n5ea3NVyECX2VQZbDeAs99izz8ZQJ5vfVVh8z9HPyvHoS+5NIwfHnK/XJfecj7yoit6/IcR2ete4eeVVCXsby6+dH6vmu+xlBCV4Pyz29bfttx6pJx0yN1n0l38xtu5zl6sIOEdMouo0NMvg2kmn2tKM9G4LdLtZ9b5kgbbDzRNlNsR4CPJx9po4rktT3y7b7Pa2aU0E7na78UipoKKn1GtqlKo2df63dqulKSc2ynxaR5Hal9n+yzzTnpFspXx/A7So0ph9oCcooYB1fO9nmhjsat71rJZ5sokq9My+lo3E7b4OmYf62sqzQ9Y0AidVmsC5FnN5qQQQ4cc+Qfa2vZeshvS4KY/IvblvvszXcuW4NXJkffq8u3iVSzr0XybCheP+7II2DvYm2w0WTkEdKh3ddHb4oi/dOyDPUbWynfJ8Q/enIfAAAAAAAA0BDq8XlNAAAAAAAAwJYCRx8AAAAAAIAGAkcfAAAAAACABgJHHwAAAAAAgAYCRx8AAAAAAIAGAkcfAAAAAACABgJHHwAAAAAAgAYCRx8AAAAAAIAGAkcfAAAAAACABgJHHwAAAAAAgAbyxDqjfwd5/Pix/gUAAAAAAACoE3v27NG/smBGHwAAAAAAgAYCRx8AAAAAAIAGAkcfAAAAAACABgJHHwAAAAAAgAYCRx8AAAAAAIAGAkcfAAAAAACABgJHHwAAAAAAgAYCRx8AAAAAAIAGAkcfAAAAAACABtLVjv6jr8fp4MGDajv5FT0SB5cv0cFP78n0KL9/ReP2tf5+BPP88a/LnN0N3KNLB8fpq9/1rubep1rGyWbOeURfnfTT9GbVQbCechF5SO9TN9nKsmT0y81zJt3old78MjnyCcjfxz3/IF1a1gmSSF68dPdaRrQfKz1f/qru/XRHV0q2o07j6vcllpBNTJ4WUnb+9YZybaU4L17dZ+TrPiNTd17d+ue4epVXjurk5jmQH7XZbaCiPXDuGW9LO4uqn0ybi9iHfPurqFZvnh4W6XMHkGXJ5MlvO34ZY+nVdGi72sGm2LI+RMnC1cGqOlGxTXYDEfnm94te/2Bt6Tk1kO96hP/+97813R6sX/+fA+sHDny4/k9z7H8/5H0+dv6f3rk52y/X118X5//P9fUHofRdtf1z/UMhiwOvr1//xT9uyTi2yTpI7/HgxutOHf3zfFH9qDp9/cYDva/y9OH/+ud1ZlNl8fOv9TA55pVB61haBq9MnrzUfoG8/fPl/c2+uncqv7A83bz59yrIq7UZWaT31nXrt8eaty1fP+V+kueYPO1NnVtYd/4WaStuXrLpblvy9TBbd+L8UF2KTd3b14UKZcnZivPsb5G2VKCPcvP1OdaWdnTTZfPzH21zYr+gDF4ZfZ3xt5DOhPV55zelK1n9kHn224G1X5xeUYcqynNHtoiOKLlZOlKg91JWXvmr6URFeXbFpsqQW6YK/aLY/PrYKfkW0cEZfX8Unp3psGcyxr/+So1y5IyQGPEM0Lnb4qxZOi7S/9//hw6+Oiuvo5njfM0GRuL2jL75bY++7HTeNaNoM+Iy+b3EeU1Hh14+7JEj39vcIzPLs4OofB+n1bEWDehjCb+v0upzPbRf7xbD9cJ1MDD5Eb3ypNh/RN8tLPF+iw7JdKJDL7S4fhbDdbM8y3XaovGX9+oDh6g1OUCz31auya1F19nA2V5qjeljCb/SGuth6wVTwr30/PAALa3+Kvce3VmkpefOU6tf7jJumR79a5XouSF6XsqL6R+iFrHMgzMy3Gau2PJlnnyFpu9Pq/3lRW4Ntvz20isnW7S08J3U10z6k8/T0HNLtHhH6+/fztHS2A1618rru/fvW/salsf7CyyL5/S+5B4tzrAcrr+b1DX1t+g8naPZDup2jF9Xl4jGhpI87z06RAO317hWmZg8Le59epzvw7pdGr+tRPISa0u/f0eLtwfo/GtJKg2xrqZt5xGt/jxAPX/Suw7m3q5ejY/N0vSmZpOqtf9HX78v2/+Nd/TZFe2B0t/xtAxC/56bpcUO65+y8dxfPdtibXKJ2Ydi+2vsQSrfvS+PU+v2In0Xsh/cbqdnbB3J1+cdpci+mjx/+ArnVrH35Wm6f0Xvx9Ir6VBFee4QxTqSbWO5er98iY6zBjo6WFUn6tpHbwbRxtjzGTqalknYztV/VewXBSzP988upf1gTeTbMUf/3qfGUU+ZfTVdchLG8Tg7Doals+ww6N87gnSC+K/VKckGx38Hhp9PjEqIWc6rOE/BA5FksMCd+zErjQck7y/o352k9zwtseJOv9ajD1j8e43/WaQBMzgpWBZ89PU0zbJB+sh2jK7wfZN9lsC3XIuWM2OjnF63U9v75978gcEOMnT9Pt2//y4N6f2U/dTDepI2RG14e1UpnE5HIx06jSyf3ZFI57KXeo2zYqOdudQgefS/K/Noy1bK1OCnO/fTjnoyYMmDO8MPFmnowxZltSXsSBqDWUf29/LQ1m/jRgdj8jTIDpQ7ghf0fgmybSWSl1hbsgd8Er8+eUDK/y4eM+04uyTc++esXpkB68ao0v7vsd20Okimmj0QAxnWQN3uFHup91m7bXaKIbrB9vX+O1nrEbMPxfZXTTK49SbsUTp4d+B7Lfm25U89PJjsrCMryLOvqg0MpRMhHtH0SjpUUZ47RLGOZNuYKYeLmFggHkR7Eq6oE3XuozfMk1x+lkJax8p2Kj0o2y8qMoOCmsi3wzH6PNK5JRq42UxHpZwlQUsaAN6u2+NQMaK6oUemLWlEp//v/5Oew4L2O+jqqJlZ4airkbHJU4GjZZDPt/L88ypfzXcQnbvY5w5eONb3uQy9ty2j3iEOvewaERuheEu3e1VHJcvUS+eOhZx93VGfDN/LrFwcn7Fm7EI82+teLxqF/tkx2Il6JTR6lyhDe4NdPdURD9DaSd/wWvgjfOFM3hpKHbArPawbRborjJK9YlQcjxmuE7EixtfyoJPsWVzpqOs0vWVj+Gfp3LPWrGmCmAVZonMf2DHYYnZC/64pshO9TnJVUJR3YHU806mmhOQpZgFXrRmbMoTrpWxeitsS50eulB6nWbvDEbNWbGt6jT0VtufsgHb2la2bfdVafZR6qn9vAbH2bwY+6aylpqI98AcrcvDUYfayfS2tHZ59iNtff3CtBje5eE6EcnI6TKF9ZVgHSOuP3Px3U0qkl9ehivLsBJlZYpdQWxLHVu1Zf5uqOlHHPnpTCH9yiYYWBrQOTVMP+6XpjH2JflGQVy81kG/HHH25hMtjnXPJDJMd4mJGpC0aMsKWIQ07i1w6579yRkjOfvKOvTScQzL68/JsRuFpB6+WZeqMdD5sx5Md0xvCofubN77UYQ5JfXmo+3BHdauHpgud025DGYDp3iXtQC1RzxXW59ALN2wIxj3nWjpAx9Zo3HTkJ9dooFA+s3T8A6KPzPkFA69LvrOXoJYexfXjq2zckryK9rhIQ+bet87T6qu2UeN7ylmhcAdz6J0lGaqTzD5+O8S6ohNrigxbk4MrVeal3mnPFhnC8hThJovD9mCpBDltpWxeituSGngm1xunR874250X68D1Fi2dnZX3F/e8MabCIGXdsY6Nb6FtKs6zXgWLrJQ2noB9KG1/m4xY+aaPlP7wduNZtjG2Mx9LbxIBHbER/cnAWXJCmcQ17y8MOauHwELIVE/QKR0apzX2S9MVz1i/qIitLnWSzs3oy2Vx7oySzkR1Mp2MVc9ghe98JSqRf5ZdwmkyoVmyopAcBy8uPINe/UiQS181JhTH/eF5GpiZdp2ZxEAvWbP9ofjKWEfeohv2LK+Mx/TlmTql94tWTxg3ZnqAzt+ynAoZp52GPsg4dDsGP0PqZMrtnf0ynCIUElIP9LKsNbO+9+WPZHyrG5ueI88NdqDhtlI2LxaRtqRi/AvCMryZokPvWHXHOkaraQjalhHKc1FIWkV74IeJOWEwdSZoH8K49neJ1v6tf0pUCFMuyTsfGhmfXHO43dkyOfQa21dbr2PplXSoojx3koiOJE7+LTuEz4RaWn2GT1Wd6LY+OoJy0N13IOxJkFi/qCiYrKiBfDscuiM6Mz3To8NclPBU3LNw/s0LJUnYy46Shu+cOytEnT9jXQZjoGevmNkGtYRfX1QYgB/LKzpP1wHIi2MTDlL5wZuKV3cbhYxZKzOAqDPi01xsoEXYRKwTL0Qu+bGRyHPcBHJ24jitcmfgO/ly9SB3pkvForqdnI2q49lX9Yyvfhl+6ay9IuChHbjwC6BdQpE8RQdx21rBkB8DEBMWRSsy1WI+UyJtSX7+LbQSoQjWvehA/GXlBJXPzQ3SyrX/vJmwavZAhVi47xQoJ632kzO59iFmf1U/6Q5uxGp4zqBJDuw8+yF1oJ6zkAKpA77jY1EqvbQOVZTnThLpQ8RqoHiZ+Ybzng4jbbCYkTZ2+7j0o4Qdl3pVUSca20fnEusXNXmTFTWRb4ccfRNHam36iznKKBsHO3UsBqo4xPKrO0WdbXnkW/f692aFndwrcQ7YgXjOnp2pG/oLMsnIlhEvHs7YM9iMfms969DpN8aTgQ3XvP6yhnO9QX8tIJ3B1LHMde6oZXiWnWcxg2J9/UM4iqzb4l2TbAhNnnwHcuIvhTwpEAdvDAw7VgUzPuoLEvZXcPh8+eUXsaKwV34NIBSnreSfhvuobYnrivja1AGWoSeJ0+/JoZboL9Pk6mdMnnqSwmxyskK8M+R1tjYFbaU4L5G2lGk7rvzV7H627s0Kgj8QEKs3wZj5SpRr/3LW3Y9LFVS0B3Im115J01+w2MzkzLazIftg5KfarJ2u4rNzHHc5E2mvFrKOiK/M1DlkSugAnaP3Ex1gLRAvPJoylkkvrUMV5blTFOqIarvy3ZfQu106ZC+1U+rdRnEvadOq6kTFNtkN5NnGcv2iRs6692Y/olET+XbI0RdL/MpRsBFOg1FkFTOqfgta183LtwVIIenfW4bqgAWbV2Z2lm5xZ6T3RHk/GtY7NUXUw9Lkahq7++qqu4wlyFNyRtajiJnU16tZB3M9K70zYyX0Qr0kqAaAaiY1ZNzqg3CA7TwPcLdznpaM8ys6Hf6bzoTrTTtVWfkKg546ir4DJs8ftr7CIetDnW9WveQsu0mXmzFSSv9EfKE6ruSbOLEinM56GdTMIJWVv4zR/zl9KdmWQ10R4Squfoqlb6WfcXnG4A6Dz3dmtAvaSlFeBMVtyW874nOOVqiR6PADde/YW+ve0nHIfSm5PMV5FoS+lmOI2QNPvqKM8p0VXcaQraoZ1e2DVyZus3a6lG9Sb759DbRR1pHQILY+KF8hfVGSdfNntitJGcukF+iQmCm323OhPDtDsY4oR5BTUx3Rm78SlEexTjShj44QsI0iTLNKvyhn3XNWR4vl6/cR2yPfJ8TH9PXvII8fP9a/Oo0QiJplShtxlyGMCjtyatZPGWsxCyo+I5o3WgcAAAAAACCPPXv26F9ZOh6jv6tIXn5LR9/q/xVQ8+VlAAAAAADQdTTX0RdxbdqZDm5WOMSOIZeW/QCkgdovLwMAAAAAgO6ji0J3AAAAAAAAADYI3QEAAAAAAGCXAUcfAAAAAACABgJHHwAAAAAAgAYCRx8AAAAAAIAGAkcfAAAAAACABgJHHwAAAAAAgAYCRx8AAAAAAIAGEv2OPgAAAAAAAKD7wIw+AAAAAAAADQSOPgAAAAAAAA0Ejj4AAAAAAAANBI4+AAAAAAAADQSOPgAAAAAAAA0Ejj4AAAAAAAANBI4+AAAAAAAADQSOPgAAAAAAAA0Ejj4AAAAAAAANpCsd/YfzY9TT06O2sTl6KA7+cIF6ppZl+qb5bY7G7HvvGpbpQs8Yzf2mdzXLU1rWyWbOeUhzY36a3qy6CNZXLiIP6X3G5utVA7IsRXom9LDnApfCxi3ThR/04ZLyS3HvY2+pnLxz/PsY3dZbmheFU1cBXUgQ5QzUpXt99v51pFyeVV1l09w6jOqr1I+880P64OqS2xaL9SxW935eS9d9RZz72jrjySLd7GdXtAfOPbeuDFtDng4VlzFWL266rxM+no4V2bIOIMuSyVOBXm+DDlWT504jyhLQ60K7wlcV2o2qOlGxTXYFno7l+SlCzoG02st3vev4Y/1m68D6gQOT6z/qI+vfT/I+H/s4ObI5/nNzvSXu17rJT9st/Lg+Kcp8oLV+8z/6kEQct2QdQ9ZFeo8/vmw5dfXjx0X1pOq29aWRusrT5Pd6t8OoshTl38jQlpc6lpRJ6pYvYwtPfjFc+XrP8uWp9dpPT+TrP1vuB+retDe/ffjXx8paB0rl2dgcXxf18UQfIvqq5Z+me+eL9AKbI9uOlS7rPtn38xKu+7xn++00t+4rspH2n1sGX14+ft1tURm2Bl22TP6LyxitF2/f1Yksrvz9Z3cWVVZfP5Q8fJuVn2ct543qUEV57iwq75n+oWLb9stUTScqyrMr8HXGl4lG6gYf9/Sh2C7XQ74dcPS1UIXA9OYXQgpGp7W+vKmUWwrOKLqVful9Z98xgkWYSgtdpxuOeOZNJy9e5Xj3SNNNGe28mGNpI00Mm9x852LnMPJufTzpdpSCiPPhourHl4MjN8+QOgTSpIz8BrfTGH3gvE06jdZFyHGSZeiUIVOmgEwSfPlF8A18SLbimK4/3wBJCtNFfmx9MO2vxeX0zy0qV12J5zlpo1yvouyOrZLyd9uLa9RditIkoi5y05XsXVtp10823W47obpP00NyUMd821yNwH1DOqpRsi5qO3aes2TluxVl2DyqXDk6VFjGWL2E0v02axHQV7v9d4wi+xrSl4I8b06HKspzBynqo2N2JZMu5a1lUlUnKsmzSwjpmIOyreF+L2t31TEt05rId8dDd5anjtBEW+9oro2mS1Fi2WzkqvotaJ+eoGv695YhlrBH/bteoxF/SaU9QRNOXo6ky65iCce7h0hXyzL76NhLg/z3Gi2Y83+7RQui3IPDdOwpVc4jp21BtGniaIeWCfum6O7aGs280acPWPy6wv8s0JFkKSl/Ofzh/GW6NjhFn4zs00f20egM3zfZ5/r/O8vsrWHq1/s2D3/hZw320dN6X7DvGc7T1YXOyMVieG6N1tbO0LDez8D6MELzdOZFvW84fEZel5RX6sEgDf81lYkhK79ilr+YoPZb/MzD+oD/LEbK1OYvfVwrHu0VesB/pKzbC3TL1O8PC6zBfdTH+mrou3iXnzFDb/qqUlCu2lIqz8M0z21jbSJQ80+N0gzLYjSRzzItsL048WJIu4vSFKKuBn+6nCzZukvA/XSG85HUteC3FUpr92nqY5Nz7e/miod065s2NyfVmvaNzNDazKhT9w9WjP3JtlNOpSR5w1Rp/8v0OdvDE3Op/lazBw9p5SdxunM29f3FlkmnyNeh4jLG6kX97nvGThd60KaFfwSW+9mWt732TPv7aNBu8x0i176WsWkJm9WhivLcSXL76LhdeVoYBqu8D/+xQG0jk4o6UU2e3UGRT2LI7ff4qkK7XBP5dihGf5Cm7oiGbTbTWarOSXBCNnze5k7IfYUQ6jypIyek8Zx553x6Djs9vlEIIjto6/l3pjhHzE8rXuxVms+7F+UZutN4SHOfKSc/yafJ19XL0hHe99dheU/TycjGxX8HXzrG5tuUU5UhLec1utyBeLf+EdcBsBGK1273Wfns4wFJyNnXRvbt8L1M3OPIVS7zREEN+Y6oaBT6Z8dgfRm1G3IGoQ8rNPVGkebpuLujE0QXP7GcQ0Ox/DLwYPXyVdbPyDPte0qdvDpixQineiwRneqdYVo4qh3Nz/q4c7HbUz+NFg5C2KCRHQeePyisD8V53sdtI2pPhBxlDOYIXbMHXhkGqW+/G39px2sLx7vNro7o0JXNWaGRghhhNdA7pXVJOYXzPNxU9z5CK2/7TqJFRH/MoPPNQr0vT6z95z6voj1wnTTt5HSYqA5VKGNWTkKn9E+JGtzk4jkR9JTQ/w4Tta82+XZya3Soojx3iKI+OmZX5CB/jtiWqLQjK6fcQX9VnahjH71JxASBE2fvTPrG+j0X1y4zNZDvjjv6/S8Kh1bMXhuh2h2Zma04QcOmsR4e1o79dpA6X2p44WFVlnHc5WAgmZ23jUo/vSkHA21a+ZX/PHWMhsWuHImljv0pqTCmnNeSxmdWB9orYm61PkgjYTt77AzOv8X194XnfsjZX6vePNR92IG500eXu8IBLM/D+fdo4aWQ826jRv5CBqdWzMqPRUR+PmpWRq0OhRG67TmeYoDLA8pro6btvUf0th7kMtIZO7pCp3Q+195eoSOV6or1+QzRJ+b63EFhndiKPCsnW1x/t+9ywQvnwu4t0LB51p0pWuG6MJ1y/wQfszrgfSOf0NRgePAvOiXXaVa27HKfmHkS979LfZ9xHYde/BIrmrkDTqUHR04TTV0oci6qUdz+9eqDnAQBeWxHvXQXAZuWsJt1qNiuSAdWTtqodGmjCiYQdiMiGmPhRS0/tp1TP42UeGk2S9Yu14Odn9GXS3HpDLlxdu0R6LZjvj4xtkJv6oZhcuOQmeHXlJoFscJ35vXAILI8JMl7Zo0IzZKVWf6SyAFQwVKoX3659FVjWJfe+2a4dLiNQA52vaW40vKTxDq1tENc8w2Obn9qm6FRYvnKGQd9z4tvxgd1ubCBs2eKDr/JjmoNlr0L2do8ywmB3FAIsUJoDZp54HXqLbYQuaEl4dnEpDOxB+B6oKgmEgQ8+LjAdk2vMCYkTv7d4Gx/4kzesUOStpBQ+y8KoapoD1Z+cestDU+qMSXKmF8vemIpQYUw5aLD9BKc8K86U2DTBFumQxXlWQuK7IoO7bFWQDITCFV1otv66BIMsj1MB49sO9/O9tExgnZZUAP5duzzmskMjw67UUqp4kylc6wdf7kcp35uGW4YDZMnSKvDNteoZRWdz/YEfZ4MUNSSomh0ZukvCd85rVYM0jg6U06hFMbp0psXR9tZVEiC/3kn0Xm6sbB5cYJqlrHsIE7GonmNQsaslXaAdx6pF6wHyTsMcmVGDF7VrKWcJc+d4TXE4ywdijo1OYgdoRURU1hiVkEOMPylwo0gB79swIIObk3ZbJ7lJ+3KzoypWF/XibAJtRXlZKThKKo9jvwk4nW9zqQMIr/s5PfNhUN6REd15LQI09sqJ79c+89bnapmD9SgyF0RVfIr3a46QJky5teL6kfcwY1YLc6xDTIEwNN30fcVrgzWgBI2bWt0qKI8a0HMrkSoqBPd2EfHEBOXm4ukKLDLdZGvfil3h1BvtauvzLibeWtZvTUfOCd5S9m8AW29mSzfVDbnxt+Qjz4j+QpAdkvernaeaW3e29Hmbfngm9T+tby5b2/vMIE3xFU+fVl7b6iH3izXyOutN8wz93Pwv3oQeqO9s8S+cJCVj18Gte982aFAfkFCdSAJ3NvGf468T7ofruty9SrIHCu4vi6Uz3NIF3191fYtTz/8etN2xtxT6pbfVqx9P93Fr3svL96zfDJ1v0X4ZQg9J79NVbQHQf3e+jJtnDI65J4TrRevjL68fVxZ+8/uPFld8PU6zJbpUEV57jihvmIjdsU6v5pOVJRnV+CXQZUxpE8hffDl61MH+dbi85p+oaVgdNrk96qgqSD1vmP87HuWcSzcPAghqmfqa3VDEc/c2Oc1Lcw5eUoTu34nCRkRxs1nQL6+ofGw6zNUb265Tf2qreMy8XAbbYCQLIw+5ZWpQH4hwxI6JvD1Kd2se3s66xsQ/x55BqZcHsq0xc5TLs95BtfVV1c3AtdE5J/bVjwdsrf0Hl5erPpx72tt8hzvOmvbivaX3/4FIRtg4+YtZCvy5Vs3/QvkV5JXxnL14uqvLd+QbN2+r9CWdQDfvvr2KN1i5bQp0KGA7c2XZw3I6aOr2RX/+iKdCMm2QJ5di9fWctqF1A273ytll4vkq57r1tfWy/cJ8Y+e3K8pOjZvcIru1iqsBQAAAAAAgPrSsRh9AAAAAAAAwPbRPEfffFEnb4u+GAkAAAAAAED30wWhOwAAAAAAAICqIHQHAAAAAACABgJHHwAAAAAAgAYCRx8AAAAAAIAGAkcfAAAAAACABgJHHwAAAAAAgAYCRx8AAAAAAIAGAkcfAAAAAACABgJHHwAAAAAAgAYS/R9mPX78WP8CAAAAAAAA1Ik9e/boX1kwow8AAAAAAEADgaMPAAAAAABAA4GjDwAAAAAAQAOBow8AAAAAAEADgaMPAAAAAABAA4GjDwAAAAAAQAOBow8AAAAAAEADgaMPAAAAAABAA4GjDwAAAAAAQAPZBY7+I/rq5EE6eFBt418/Uke/Hk9+xxDn2teWQzx3nL76Xe92Bffo0sFsnu99mspPbeYcV7bO9uk9ea3AyE9uJ7/iq4oQeUjvU03m20WonJc4p4awjiX8/hWNW9dm0pcvJWnBdA9HnrxdWtYJEld+dj1IvGeJzX5efl0rYunFeasDqq7yZCzz78tMoq5zyhOQpdry270rH1uHFK58q6Z7euqXo5Ie5pehKsU6scm247NNZdgckTJaSFn5NjJSpphOuUR0pCN4ecqUI5bnWHq1PqWaPHcKz67n9qNKFn4ZHbuRubaqTtSxjy6gop0OtsGEEvK1dWYDfcR2yLf5jv7v39Hibf47doPu379P0y/vlRU5cHZJpW8LQhkG6Jx4btcglOs4zeq9lHu0ONOiGyw7IT+1TdMrT4q0vfTKFfs4b9dbfHyAzr92SJygZd2bXH/j2XM0kGtIhNyO0+rkkr7fDeo9O9B5Z1HoEJ2nJVNGub1LuoSqrp9V+pXJs3BUjp2j3uvmukD6q7PUykv3YcMxcJbo/C19/q3ztPqqMRqqDlP5LdH5n487huLet/az1CbahE4tqGtBJL0wb/Xg0dfv57bLfLuQ057737XkIDaW93N8fGzcklmKur8tnx6atjoF0Vkc/znVs6XJVTpudTji+uOW/P30e5/aeujVfSk9XE3zdr2Xzh3bAienUCcibUfoM+eZytqD7SrDpoiV0YLz/76vf7EySfmm9tXXCZ9CHekUhfY1nufi9Ip9SkV57gyqDLPahxFbXj8asm/Srth2++QaDZS1GxkqyrMOVLHToTZoEZJvoV2u2Edsl3y7wNF3RzfZkZCdzmlfqxGUVFRutAe5o5DVNnNcpv9/X6Sd+RILMD7DnIMwwMlzeUsanTbsUhmW2CjXf8SrRqOsXGMtdtE9fl+l1ed6aL/eLYbrgp3WgcmPtBI/ou8Wlni/lRjtQy/wQGBmMdz5Ls+y3Fo0njieh6g1OUCz33a2q6Z/r9HSs708rAkgB5LpwEbkeWiMkjw/urNIS8+dp1a/3GXcMt37G+snG/B3rfR3uYGn+zasW1ds+TJPvkLTxtleXuSBmi0/HoidbNHSwndaxx/R6s8D1PMnuZMlVteF6ZG81QFhxBd6qSUMrY1uy6KDb3Hd2QgjfvCg6AhbLNliVCfABv8dows2pi248hkfm6VpaR/EIIqodfKVRM/2vjxOrduL9J22d7+ust0aG0ra0t6jQzRwe41+FTtchukZWw/dui+nh1bn09/iDmmWFjfVwUR0ItJ2pL6xRRo6mtoDkb76r7A93Z4ybJJYGRNYVh8sUu+Ya4GLy2Tkm9pXX2ccIjrSMQrtayTPsfRKfUpFee4Uugy2XTn0DjuBvp1hWWTtm7Yr19OBk9QhOkezQoeq6kRd++gK5NvpcBtMCMo3Ypc9ivsIZpvkW3NHnwUvRrJ6TyGcZzOj4adz2tnsnPSWwxUuZseccZ8YSHR85L9BetVsyvRrPfqABRthokUaSAY1+TO0j76epll2Jj6yHc0r9owxm51vuX6sRmHz6F+rRJ4juffPvfkDgx1C5Gvg52ldfrFZM2oZZ1Yb1hdUCfe+PE33r6TOm0AaBol7bhTtNKSOj4ecPbAMOiNlmvArydrkwacpizMIjdV1UXosbx1HGfGhD1sU0HIakjPd79KQ3k8ZUjM172RTXO7R7Nklt0MN0PvnrHyWVkWXEBjgSUc3ZX8vd0BWW1DOu24vwlmiXupN9JD5Uw93OMpJKdZDMQAkGuh1Wh71PhtySCsQ04lI26EnuTxcqsU7RkdVekiG21aGzRIro0Y4AIvDH1GLzV1KrEzcnm/78thPPc/ZMrOI6EinKLSvsTxH0qv1KRXluUMU9ZkpRfYtPLkjB8wVdaKufXR58u10uA0a8uVbaJcd4n3Edsm3S0J30mURtWlByY7ETb9hz8gJx0eGkjBy2WuaXn9jmpZ4hCQYEMsjXudXBjnLwn/l9fK5ejnmthglC+dW74sQlluuo1tHDr2cLwOheEu306VMtXQccva1ElszkjZqZlQvIeaNZgX+zI4wOvpnpxAO0RI7fE5IRSZ2Uww6RSellljDM/JMZgZFGGF31ap4mU44P/ZqUv7AK1MnwnG8zWbdC98wzn6sruO6UCVvO4yYKXnWmhm1YWfslZz62stto0BbE8wgN50x99lLzw8P0Oyrlt5IXdC/A/izudJZv06se0q+A6vjrv3yOxfpKOeQ0cOsAy07sE1TRify2o4Y/HDLWxjQ105TD9vT3LbFbE8ZtoIi+yDaaa81i+dSXCbfiVMDgVyq6MgOEbWvsTzH0iv1KRXluUOIwZ4TB+6H7eTaN7GCtETnPrAmIeWssf4tqKoTNeyjy5Jvp4vbYFH/EbXLmngfodkG+dbc0VedI9FsIkRn1lyORhlrtCtDQ7YVNSMjBhepUqjlLkHesnK3IpXYniXmwdMNYTj+5hsaFTYylKPE6j5syGVcco0cwBLIZVKr4e59+SO5fK5CLgxq9UJ2VL3T4dUdvRJEdigDa/C5Y4s0pDs5FcNc5OxzW/iA6CNzfsHAS75zYTsVcnbRdpTYkeKB8NLZWdmpxuo6rgtl87bTiJAyKh5gbgodljP8vGugPYT8boxZtoxlNa4nHXySuForz7Kjv9KTOkRCzzIDzhIE9XC7KKMTOW1H5PPgAK2d1NfeH6e1LgiFDJNvH+59epwoshLUZMrZ192NCDNefMG0AxVHnzr7xfbt0Dt8Pp1LV2K/HXInRHcN+Xa6uA0Wy7ecXS7XR2wXtZ/RNw5iopi3hcJ20nkQS3n65y4lNEtWbnmRefJ5GipaCv15NekAJWYwVyuKZ3lUjJ639Jk4V0veCo9Y9bEMDDvj48EYXgM7f/ZsgYzZ9eWZOvmZOE6fyGxBbEbUTS+Tt51n2x2pCmFL0qnRHYJwbmiVjb8TmqE6DvVyl51nHfLhxPB7DpEfF+qF/khy9TA7SZGG9myGajpht53QewX2wDTE9pRha3Hsw/IlOk4FK4BMcZmWaO3f+qdEhfvkUkZHOo5nX2N5jqVX6lMqynOHENEDqY7oiUUdzhG3b+kgU27v7JdlSlaKqupEV/TRAfLsdKQNxgYBUbssqBLaug3y7ZLQnbSDVGE3uqMwTkoSv/RIvkyzvRgjZFdk+lx/mbW7UcvN/gya6Ghc5yQcdyqOi5CUsm+My1g0z+jImLUyA4htI1QGZfxlXYsXvmOzqvqlcBEy4zpXKv7T7VgKkEuqbISLBrlyFlS/te85+TJ8yl9pEEZELt3G6jqSXiZvHUHp5uyrejZLvFh7W82QxT8jVw7lkA7R85Vnx1XeUpuhZKy+vFNxYCJtoSd/WbdWvnL1UNk09a6AQel46fdHQsR0okzbKc02lWGzRMooJ0jkhyKUfsoPRcjJLHFNrExq0skdCIg48xyHooyO7DgR+xrLcyS9Wp9SUZ47hJhMcXXAZgP2TTudMkSpok7Us48uR56dLm6DW9N/lO0jtku+NXf0lREwFZBUAqumbHhydlicZ5bDzdduyiErawMdzaHXznMOzPXWczPxVyIsg9O3yKHYeVTolDODxh2XmG10YtnkDEDohR/9xviV1Lk0b50HY+H0FyXSAZSOMe9kR81lkF/J8MtAuq4zeWZn7QMrtlo43vrzmdkZAzUzE4rbDpdZyJMC8ZamI+L2kjNbK1AzifprCxI+X+RNzkbE6jqWHstbp1AvuSazWfp9Gvl+TWy1oyRyhjXvqyEW/kBLzBTZMZvyM3fiM4P2DHhCjh6atiRXguwwKtZD8QURs1RcqId8d2HTZqbTlVJZd/mheOWI6ESk7eTpq/1VFJvtKcMmiZTRWeHhTU5ksU6YgV5xmZT9sNukigPOcShiOtIRIvY1ludYeqU+paI8dwj55R92RNPBkCqjcv7i9k2GliQ+iKt/lXWiln10OfLsdHEbjMk3Ypc1ZfuI7ZLvE+uM/h3k8ePH+lenEM4+d4h6T+B2VnZ6i26IlyJkZ6CdHTGjwvvyZdykY/euicyeiQ5aDDCSewr0ErgYdkj8MAnzXEGZEIo6IMu0SEO33E8imvIrBui8l67KSrlyVKEIeseRNxuVkwO0OGw7pm59OzLvIPllEHg6atW3e52FMCTGobN1hbH1W8p+Ychx/vLqwz1uY+XX01tfvrG63mx65wnpXIqsLwq1V1XHlHGUi+6XvSZXj3x7YmHrg3u9L1+Vl2SyY1N6uHV1V6wT+W1HUmhnA3WyTWXYHJEyWkhZee09ViZXvjH7mq8jnSS3XUhieY6lu/J3bF6g78qXZycpq0Ml6txu85Ii+YXuVyDP2hIqR5hgG0wI36eMXQ4/O2DDNijfPXv26F9ZusDRr4g2it2hfAAAAAAAAGycIke/a2L0AQAAAAAAAOWBoy9WAKx3ADJb18bXAwAAAACA3UzzQncAAAAAAADYJSB0BwAAAAAAgF0GHH0AAAAAAAAaCBx9AAAAAAAAGggcfQAAAAAAABoIHH0AAAAAAAAaCBx9AAAAAAAAGggcfQAAAAAAABpI9Dv6AAAAAAAAgO4DM/oAAAAAAAA0EDj6AAAAAAAANBA4+gAAAAAAADQQOPoAAAAAAAA0EDj6AAAAAAAANBA4+gAAAAAAADQQOPoAAAAAAAA0EDj6AAAAAAAANBA4+gAAAAAAADSQGjj6y3Shp4d69HbhB3HsIc2NjdHcb/KEKA/nx+S1Y/MP9ZHdgSj31pZZ1EVW7stTaf2ozZwj6slP09vUsrxWYOpHbmNzfFURrj50R526csjk+bc5GrPKpHTc4ocLSVoq23zc+rjAErOJyS/U3lKcugrlxcmr/+yqdV03lGxcmUTqNipvD0d+2fNd+Qd0JSGeV7sNSrxniy2YX3FebeouUiafim2pCbg6k22TLhXlWQvcNpbJs2dfs+dUa6PV5NlpvPq0t0QGoXPsclXViYo2rxvwdMgvU74PJOgC+a53mu8n1w8cOLDe+vIPfeCP9ZutA3ystX7zP/pQhD++bHn3aD5bX+Yf1yf5flm5i+OT/G9JZH2m91D5TK//8WN+xsd5d1N1n5ZJ5Wnye71bS7S+JmXy8vyfm+stp57U+W66JXMpv3x5+/KU+62bfFeBrkNLvkLevjyT/eCzC/ISqtvk2dm8Fdd1/ZD5dfQtUrdReXtoXfCvT/Z9+fv1Y5HNqz6W5MVvSyrdPj+IzAPfx6rXThIrk0PFttQIvDL6bdKnkjxrgWezAnkWZc4vg3++34Y9KsqzloTsyJbpREV5dgMxuyz3C+xIF8h3846+6RjM5hdYC1GlT67flM6AyrhyDKxrD7y/fpELaR/LF0iKuU/ry5tSKOpar4P08+lVXCYvScUo3HT73qpi5LEv02eofJs0sXmK4sjFLWesPJm8btIQSUXk+7Q+nsw6FhEldlFKmZYloNSeIXUIpMmyenVRK2Q9ujKzG7bMvy8/UU59zDUCAiWzvIadOV8+X8ssJNvCdLd+snkV9ZmWLfxsk16xruuGyCvrv2NUI3UblbdHtq5tAvLLo2Re5XlJfYr7e+kOqu0KOzP5cUBnO0G0TC5V21L3E9IZt806VJRnLQi1MS/Pot5z6zhwfX6fUlGetcTvgxkhgzy7U1UnKsmzOwj10U6ZhIyK2kgXyHdzoTtiuWP0mt7RtCfoSLI0sUwXjk5QW+8RXaOJ0+neVtM+PcFPMLRp4qhePgnlk88cMfn84QId8fN1dSRZMhFLeW66de8EPnbaevrp92hs7AhNJJdZzxP5ceQizj+SWabPlOfMNi2n903R3bU1mnmjTx+w+HWF/1mgI8lSUv5y+MP5y3RtcIo+Gdmnj+yj0Rm+b7LPGvF3LtFbw9Sv920e/sLPGuyjp/W+YN8znKerC56sa8RTozSzNkOjT+l9zunCVaITL1ol/EsfS8KjvUIPuDZXfhJFdkpMfX9hbfl7uMRP9w068nj4jwVq2zLz5KdYoRVRZ4fP0NramVT2v92ihfYgDf9V5U7Kur1At0z9/rDA+tdHfbps/RNrtDaRlks9e5iOyfRqdV0v2E6NEs1PDOt9TZm6LZK3Q+BaG68u8snJK7fTtlVXkv19NJjU5wPOFbfko/lLwn0X77J+zNCbATPQEaJlsqnelrofrlPuRPqesXXmaeobbNPCPwI9RSV51gTfZjGyn0gQ9T5IK5+lem2HRlTrUyrKs4Zk+2Alg8GfLqfyscNKKupEV/bREfaNzNDazKjTRz8QimCI+EDdIN+tidF/a54bIzsBZjPOgHQUGFY84Uiurd2lKfZTDELAdy+qA4OykzlP786YcwZp6o7rOETJPOcaLQjnWXbYVv7uTPHdmZ9WHMdZ5SE9Tz37Id36RlT6CZo3aXMneP8aXfY6SnP9/Ftir83/6fzI8xn9POkg8d8Tc+ZZ83x3vuNnniNvymPyK53DgNw8Ja1K/0j+9ULx2u0+q+x9PMgJOfvL9DkPhk68Hb6XiXscucpytJzFDL5TLBqF/llvTBzeCF3j9nDmsDq676/DNMiDxnQQx+d9lg7fBG7Hop35HKRRmiMa0UblyMqptP4PD9MJHmi/Z+nl8hfugFKhYwB5sEkXP0kdWdGp3hlOncHP+lj/3E5WouOgj5wmmmKv06/v0nVdE0TnuHLxzYIBSbhuy8vbMEh9+934S3dwzx0C2bGi2XZWmFd/0PGUuJ/mNx58tLnLsWxO3+kjlrPfT6NVbO1OUVSmAFXaUjMQOqV/StTgJpeK8qwffj8jnHNucS+Zvpv7/p9G3DjoSn1KRXnWinAfLJzWNg1r32iNfYcV7j8sZ7SqTnRtH12S3+bo8lX2P99QVjbmA3WDfDfn6D91jIZFDtiRMR2XPUskRyfM4EvHdMb30bGXtk8lUgVPn7Pyi+06pw6O0xmLDpv/iFn1bAesRvnCsTfOVc+octTaK8LtNqSzcaZzScrtVZQZLV4b1fcTDoQ4oB15Q3K9kXMHkI6l7eyxMzj/VpsmvvDGl3JQd4KGjRPkoe7DDeFOH11u5EtyakZbNvQ+Ht2blxnFIJMHemldv0f0th64bQD5UpB0wK1nJUaln87woJAsPV54UQ0iXfg8ff2pFT5Xd4rSQT+6Qqd02trbK3QkVFdylk2cc4pWeFDgr0R1VV2zUX/vm2FnBixLTt2WlrdBrAQu0LCRL1+7wnqRyo9tzBmiT0y6P6guldcc9GRHMkgReWe9bJ/+PO2QAKg1ov/2BtvalqUTgtxWL7B9vXq5gX1MhJw+WK7EWpOB+0Y+oanB7EQlYHS0hT0BFvOBukG+m5zRNx1g2rlJZ7lDX2xwnXoLUXmiIx5boTd1B+s6WtrxsY5Lx8yeFQjhrQhsntCSf/0IzZKVDtOQg5aCpVBfpnLpq7uQs/j20lziGItthka5nu1wG19vnWVDBx3+Yc3YZIyKt3p1Zj/rFPW5S4cW/S9yy5XLgmrlatCeLc4b1CX00/Bb3FbyQiNidd1xHtLcGXa8A6sSeWTqtpK8xSql1WHwtacc+Z2geXt17vCbXLdGfiXy6k0UyFl8/TNIN8zEVSxT+bbUFNq08qv+KVEhTLlU1ZHakDr5dvhgEH/GtFKfUlGeNaJ8qKS3SlFVJxrQRwdJnPy70UiS4pXC+sl3iz6vaWYIdciM7ghlbJHY/eaWzrhaWtou0ueYcBu1lGtCZZIZ8jzBJZ22HrhIB0jE6Ikd7oStDl1uGwyZMUqShu6YzY4HrgMqZMGP5RWdpxsLmxd/rFZQ/BnfPFSMuNso5KpQneO8ZRiLtUxXAmmQ5fKcMgjuypDqWHJjuStix/DLGfsND8LDupBSra5rgYyLF7PsajberKyJQb4s5wbqNvPORIKK9XWdCAvpnHAHkDfQj+VVOu3e9cLO6XcognUv00N5rQmRMrlsf1uqH6pvcgc3YgU6512PSvKsEXKiboRWRJiq7+SH2qh0pNRgu1qfUlGetaJKH6zahQxzq6gTXdlHl0HoETv5IrTRdfJjPlCXyFe/lLsx5BvC4ksN3pa8UWy+5JDdzFvy8o1i3k/fEldvvifnlnjb2Nwju6m3l3PTdT5z0/Wz89JVGUx+0zerM2WSb17zOUYuZt/fvOdlZZK+je3myX1Le8ME3hBXz7HuH3grPPhmuUZeb71hnrmfg//VA6U/9f5qhp9nXVdGb33ZSPlZ+8H0/PqUXxbJlacnL61nqfx8ebpfaAjXdUHevPRqdV1HfPlE6tY/PyNvD19+3vm+/DLyd/Dzykecr854eY/qQkomHx2ksEw+FdtSI/DKGKu7SvKsBa6NyuKnh9tsup+v95KK8qwNvu5bBPsMa7+aTlSUZzcQsdtSXrYd8XSkG+S79Z/X9A2rFqJM48L/KIWWZlwJ0Su4fc9EQPmk98j7vKYSnrmneLYUvu+kJNfyZlWUwE9P82vunb1Xco6RgX1PWy5eWlYm5hm2bJUCqOs9mW+UHGPhlj1gTDzF91GyDuU1pPR2ufy0uuLmOaOzXhvJNFon3ZWvlL2ni648vfrw9Cojv0i6r+d+XmO6kF/X3UDIqEbqtlCegftFdCHa1hJCeXXtXLW8poR0rnMUlSkm3yL5NQdXZ2L2NaIjNcO3R+lmlzPSRr10Rx6BvitfnjUmUA6bYrtcsY3pY+b8PDvSLbiysbaAT6a2qv1e5+X7hPhHT+7vCGIJWXyqUoStpC/UAAAAAAAAALaSLYrRBwAAAAAAANSJ+jv6+pvduVvsyzgAAAAAAADsQnY8dAcAAAAAAACw/SB0BwAAAAAAgAYCRx8AAAAAAIAGAkcfAAAAAACABgJHHwAAAAAAgAYCRx8AAAAAAIAGAkcfAAAAAACABgJHHwAAAAAAgAYCRx8AAAAAAIAGAkcfAAAAAACABgJHHwAAAAAAgAYCRx8AAAAAAIDGQfT/A5fx0UcDWDpYAAAAAElFTkSuQmCC)"
      ],
      "metadata": {
        "id": "0prg9cxTE0gT"
      }
    },
    {
      "cell_type": "code",
      "source": [
        "# TULIS CODE ANDA DISINI"
      ],
      "metadata": {
        "id": "d18H2d6xEoqo"
      },
      "execution_count": null,
      "outputs": []
    },
    {
      "cell_type": "markdown",
      "metadata": {
        "id": "FyLh5mT3FNra"
      },
      "source": [
        "*Kegiatan* 9 : **20 poin**\n",
        "\n",
        "Tulis program untuk menampilkan 10 kota dengan penjualan rumah terbanyak"
      ]
    },
    {
      "cell_type": "markdown",
      "source": [
        "**Output :**\n",
        "\n",
        "![image.png](data:image/png;base64,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)"
      ],
      "metadata": {
        "id": "h1Noj35WE-oS"
      }
    },
    {
      "cell_type": "code",
      "source": [
        "# TULIS CODE ANDA DISINI"
      ],
      "metadata": {
        "id": "yUYCd0NcFEOj"
      },
      "execution_count": null,
      "outputs": []
    }
  ]
}